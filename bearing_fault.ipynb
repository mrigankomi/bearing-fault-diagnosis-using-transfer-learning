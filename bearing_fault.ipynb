{
  "nbformat": 4,
  "nbformat_minor": 0,
  "metadata": {
    "colab": {
      "name": "bearing fault.ipynb",
      "provenance": []
    },
    "kernelspec": {
      "name": "python3",
      "display_name": "Python 3"
    },
    "language_info": {
      "name": "python"
    }
  },
  "cells": [
    {
      "cell_type": "code",
      "metadata": {
        "colab": {
          "base_uri": "https://localhost:8080/"
        },
        "id": "ac6Z8viI8q6l",
        "outputId": "87ad0931-03f9-4889-cb5e-fc992d742fe8"
      },
      "source": [
        "from google.colab import drive\n",
        "drive.mount('/content/drive')\n"
      ],
      "execution_count": null,
      "outputs": [
        {
          "output_type": "stream",
          "name": "stdout",
          "text": [
            "Mounted at /content/drive\n"
          ]
        }
      ]
    },
    {
      "cell_type": "code",
      "metadata": {
        "id": "KmjJtnX_8s77"
      },
      "source": [
        "!pip install -U -q PyDrive\n",
        "from pydrive.auth import GoogleAuth\n",
        "from pydrive.drive import GoogleDrive\n",
        "from google.colab import auth\n",
        "from oauth2client.client import GoogleCredentials"
      ],
      "execution_count": null,
      "outputs": []
    },
    {
      "cell_type": "code",
      "metadata": {
        "id": "LEja6z3z82j0"
      },
      "source": [
        "import os, errno\n",
        "import pandas as pd\n",
        "import numpy as np\n",
        "\n",
        "import matplotlib.pyplot as plt\n",
        "%matplotlib inline\n",
        "\n",
        "from os import listdir\n",
        "from os.path import isfile, join\n",
        "\n",
        "import scipy.io as sio\n",
        "import tables"
      ],
      "execution_count": null,
      "outputs": []
    },
    {
      "cell_type": "code",
      "metadata": {
        "id": "9vTqBjlDyF7O"
      },
      "source": [
        ""
      ],
      "execution_count": null,
      "outputs": []
    },
    {
      "cell_type": "code",
      "metadata": {
        "id": "XVxKkinh85Rq"
      },
      "source": [
        "def acceleration_time_signal(dict_1, code):\n",
        "    \"\"\"\n",
        "    load the time series in the file and convert units in SI\n",
        "    file= 'filename' from the ./dataset/ folder\n",
        "    code= ' DE' or 'FE', other code will give error\n",
        "    \"\"\"\n",
        "    import re\n",
        "    try:\n",
        "        for key in dict_1:\n",
        "            if re.findall(rf\"({code})\", key):\n",
        "                dict_code = key\n",
        "        #inches to meter\n",
        "        unit_conv = 0.0254\n",
        "        x = dict_1[dict_code] * unit_conv\n",
        "        return x\n",
        "    except:\n",
        "        print('File does not exist or code wrong. Code must be either \"DE or \"FE\" ')"
      ],
      "execution_count": null,
      "outputs": []
    },
    {
      "cell_type": "code",
      "metadata": {
        "id": "ZVlMiYJr9Oo6"
      },
      "source": [
        "file_path = r'/content/drive/MyDrive/Colab Notebooks/MFPT Fault Data Sets/1 - Three Baseline Conditions/'\n",
        "onlyfiles = [f for f in listdir(file_path) if isfile(join(file_path, f))]\n",
        "#print(onlyfiles[0])\n"
      ],
      "execution_count": null,
      "outputs": []
    },
    {
      "cell_type": "code",
      "metadata": {
        "id": "am2lmjmO9OtP"
      },
      "source": [
        "def arrtolistgdataALT(matarr):\n",
        "  p11 = matarr['bearing'][:,0]['gs']\n",
        "  return p11[0]"
      ],
      "execution_count": null,
      "outputs": []
    },
    {
      "cell_type": "code",
      "metadata": {
        "colab": {
          "base_uri": "https://localhost:8080/"
        },
        "id": "9i0NmpJ_9S-y",
        "outputId": "e8ae4c4e-f461-49af-e199-f56e49cda52a"
      },
      "source": [
        "merged_G_3BL_data = []\n",
        "for filename in os.listdir(file_path):\n",
        "     if filename.endswith('.mat'):\n",
        "       print(filename)\n",
        "       datadict = sio.loadmat(os.path.join(file_path, filename))\n",
        "       time1 = datadict['__header__'][50:]\n",
        "       Gdata1 = arrtolistgdataALT(datadict)\n",
        "       merged_G_3BL_data.append(Gdata1)\n",
        "\n",
        "merged_G_3BL_data = np.vstack(merged_G_3BL_data)"
      ],
      "execution_count": null,
      "outputs": [
        {
          "output_type": "stream",
          "name": "stdout",
          "text": [
            "baseline_2.mat\n",
            "baseline_3.mat\n",
            "baseline_1.mat\n"
          ]
        }
      ]
    },
    {
      "cell_type": "code",
      "metadata": {
        "colab": {
          "base_uri": "https://localhost:8080/",
          "height": 151
        },
        "id": "WZboeeRN9U6a",
        "outputId": "6150ca6a-e3fe-4a59-bae6-f3c0f75c862f"
      },
      "source": [
        "display(merged_G_3BL_data)\n",
        "len(merged_G_3BL_data)"
      ],
      "execution_count": null,
      "outputs": [
        {
          "output_type": "display_data",
          "data": {
            "text/plain": [
              "array([[ 0.3685337],\n",
              "       [-0.3983136],\n",
              "       [-1.303466 ],\n",
              "       ...,\n",
              "       [-0.8111974],\n",
              "       [-0.3338806],\n",
              "       [-0.4876291]])"
            ]
          },
          "metadata": {}
        },
        {
          "output_type": "execute_result",
          "data": {
            "text/plain": [
              "1757808"
            ]
          },
          "metadata": {},
          "execution_count": 8
        }
      ]
    },
    {
      "cell_type": "code",
      "metadata": {
        "colab": {
          "base_uri": "https://localhost:8080/"
        },
        "id": "hZjqe4Oq9XVK",
        "outputId": "f2588815-ccea-48b1-8f2d-31c5f8191544"
      },
      "source": [
        "p1 = datadict['bearing']['sr'].tolist()\n",
        "psr1 = p1[0][0][0][0]\n",
        "print(\"The Sampling Rate in Hz: \", psr1)\n",
        "p111 = datadict['bearing'][:, 0]['load'].tolist()\n",
        "print(\"Baseline Data for a Constant load in lbs: \", p111[0].tolist()[0][0])"
      ],
      "execution_count": null,
      "outputs": [
        {
          "output_type": "stream",
          "name": "stdout",
          "text": [
            "The Sampling Rate in Hz:  97656\n",
            "Baseline Data for a Constant load in lbs:  270\n"
          ]
        }
      ]
    },
    {
      "cell_type": "code",
      "metadata": {
        "colab": {
          "base_uri": "https://localhost:8080/"
        },
        "id": "g-41KNps9ZLy",
        "outputId": "715db6f5-073a-471d-9d00-3685f1d47ab1"
      },
      "source": [
        "file_path_2 = r'/content/drive/MyDrive/Colab Notebooks/MFPT Fault Data Sets/2 - Three Outer Race Fault Conditions/'\n",
        "onlyfiles_2 = [f for f in listdir(file_path_2) if isfile(join(file_path_2, f))]\n",
        "print(onlyfiles_2)\n"
      ],
      "execution_count": null,
      "outputs": [
        {
          "output_type": "stream",
          "name": "stdout",
          "text": [
            "['cyclostat.tif', 'OuterRaceFault_1.mat', 'OuterRaceFault_2.mat', 'OuterRaceFault_3.mat']\n"
          ]
        }
      ]
    },
    {
      "cell_type": "code",
      "metadata": {
        "colab": {
          "base_uri": "https://localhost:8080/"
        },
        "id": "fpqlJZJ29eYb",
        "outputId": "d40720a2-49c6-43ed-a4a3-af7c08cc6ff8"
      },
      "source": [
        "merged_G_3OR_data = []\n",
        "for filename2 in os.listdir(file_path_2):\n",
        "     if filename2.endswith('.mat'):\n",
        "       print(filename2)\n",
        "       datadict2 = sio.loadmat(os.path.join(file_path_2, filename2))\n",
        "       time2 = datadict2['__header__'][50:]\n",
        "       Gdata2 = arrtolistgdataALT(datadict2)\n",
        "       merged_G_3OR_data.append(Gdata2)\n",
        "\n",
        "merged_G_3OR_data = np.vstack(merged_G_3OR_data)"
      ],
      "execution_count": null,
      "outputs": [
        {
          "output_type": "stream",
          "name": "stdout",
          "text": [
            "OuterRaceFault_1.mat\n",
            "OuterRaceFault_2.mat\n",
            "OuterRaceFault_3.mat\n"
          ]
        }
      ]
    },
    {
      "cell_type": "code",
      "metadata": {
        "colab": {
          "base_uri": "https://localhost:8080/"
        },
        "id": "-WWS-pV49gYZ",
        "outputId": "844516d3-aadd-41fe-977f-f58f7c14e1b2"
      },
      "source": [
        "p2 = datadict2['bearing']['sr'].tolist()\n",
        "psr2 = p2[0][0][0][0]\n",
        "print(\"The Sampling Rate in Hz: \", psr2)"
      ],
      "execution_count": null,
      "outputs": [
        {
          "output_type": "stream",
          "name": "stdout",
          "text": [
            "The Sampling Rate in Hz:  97656\n"
          ]
        }
      ]
    },
    {
      "cell_type": "code",
      "metadata": {
        "colab": {
          "base_uri": "https://localhost:8080/"
        },
        "id": "ttarOnsE9nIp",
        "outputId": "71877bb4-0a62-462f-8299-82193463683f"
      },
      "source": [
        "file_path_3 = r'/content/drive/MyDrive/Colab Notebooks/MFPT Fault Data Sets/3 - Seven More Outer Race Fault Conditions/'\n",
        "onlyfiles_3 = [f for f in listdir(file_path_3) if isfile(join(file_path_3, f))]\n",
        "print(onlyfiles_3)\n"
      ],
      "execution_count": null,
      "outputs": [
        {
          "output_type": "stream",
          "name": "stdout",
          "text": [
            "['OuterRaceFault_vload_3.mat', 'OuterRaceFault_vload_2.mat', 'OuterRaceFault_vload_1.mat', 'OuterRaceFault_vload_5.mat', 'OuterRaceFault_vload_4.mat', 'OuterRaceFault_vload_6.mat', 'OuterRaceFault_vload_7.mat']\n"
          ]
        }
      ]
    },
    {
      "cell_type": "code",
      "metadata": {
        "colab": {
          "base_uri": "https://localhost:8080/"
        },
        "id": "x4NP_xyE9qvp",
        "outputId": "2be4fb9d-de16-4d0e-8719-7e78a35e495e"
      },
      "source": [
        "merged_G_7OR_data = []\n",
        "for filename3 in os.listdir(file_path_3):\n",
        "     if filename3.endswith('.mat'):\n",
        "       print(filename3)\n",
        "       datadict3 = sio.loadmat(os.path.join(file_path_3, filename3))\n",
        "       time3 = datadict3['__header__'][50:]\n",
        "       Gdata3 = arrtolistgdataALT(datadict3)\n",
        "       merged_G_7OR_data.append(Gdata3)\n",
        "\n",
        "merged_G_7OR_data = np.vstack(merged_G_7OR_data)"
      ],
      "execution_count": null,
      "outputs": [
        {
          "output_type": "stream",
          "name": "stdout",
          "text": [
            "OuterRaceFault_vload_3.mat\n",
            "OuterRaceFault_vload_2.mat\n",
            "OuterRaceFault_vload_1.mat\n",
            "OuterRaceFault_vload_5.mat\n",
            "OuterRaceFault_vload_4.mat\n",
            "OuterRaceFault_vload_6.mat\n",
            "OuterRaceFault_vload_7.mat\n"
          ]
        }
      ]
    },
    {
      "cell_type": "code",
      "metadata": {
        "colab": {
          "base_uri": "https://localhost:8080/"
        },
        "id": "rF09QSh59tJU",
        "outputId": "7668a8b9-6ee0-4825-ae4a-2e2440cd31c2"
      },
      "source": [
        "p3 = datadict3['bearing']['sr'].tolist()\n",
        "psr3 = p3[0][0][0][0]\n",
        "print(\"The Sampling Rate in Hz: \", psr3)"
      ],
      "execution_count": null,
      "outputs": [
        {
          "output_type": "stream",
          "name": "stdout",
          "text": [
            "The Sampling Rate in Hz:  48828\n"
          ]
        }
      ]
    },
    {
      "cell_type": "code",
      "metadata": {
        "colab": {
          "base_uri": "https://localhost:8080/"
        },
        "id": "AUe9YPGM9ye_",
        "outputId": "001e9b4b-e622-4858-e919-53bcc016f61f"
      },
      "source": [
        "file_path_4 = r'/content/drive/MyDrive/Colab Notebooks/MFPT Fault Data Sets/4 - Seven Inner Race Fault Conditions/'\n",
        "onlyfiles_4 = [f for f in listdir(file_path_4) if isfile(join(file_path_4, f))]\n",
        "print(onlyfiles_4)"
      ],
      "execution_count": null,
      "outputs": [
        {
          "output_type": "stream",
          "name": "stdout",
          "text": [
            "['innerRaceFaultTime.tif', 'innerRaceFaultTime.png', 'innerRaceFaultTime.fig', 'InnerRaceFault_vload_3.mat', 'InnerRaceFault_vload_2.mat', 'InnerRaceFault_vload_1.mat', 'InnerRace.fig', 'InnerRaceFault_vload_5.mat', 'InnerRaceFault_vload_4.mat', 'InnerRaceFault_vload_6.mat', 'InnerRaceFault_vload_7.mat']\n"
          ]
        }
      ]
    },
    {
      "cell_type": "code",
      "metadata": {
        "colab": {
          "base_uri": "https://localhost:8080/"
        },
        "id": "7UyJCcAU918A",
        "outputId": "2d143afd-1508-444a-d7d9-feaedfdf961d"
      },
      "source": [
        "merged_G_7IR_data = []\n",
        "for filename4 in os.listdir(file_path_4):\n",
        "     if filename4.endswith('.mat'):\n",
        "       print(filename4)\n",
        "       datadict4 = sio.loadmat(os.path.join(file_path_4, filename4))\n",
        "       time4 = datadict4['__header__'][50:]\n",
        "       Gdata4 = arrtolistgdataALT(datadict4)\n",
        "       merged_G_7IR_data.append(Gdata4)\n",
        "\n",
        "merged_G_7IR_data = np.vstack(merged_G_7IR_data)"
      ],
      "execution_count": null,
      "outputs": [
        {
          "output_type": "stream",
          "name": "stdout",
          "text": [
            "InnerRaceFault_vload_3.mat\n",
            "InnerRaceFault_vload_2.mat\n",
            "InnerRaceFault_vload_1.mat\n",
            "InnerRaceFault_vload_5.mat\n",
            "InnerRaceFault_vload_4.mat\n",
            "InnerRaceFault_vload_6.mat\n",
            "InnerRaceFault_vload_7.mat\n"
          ]
        }
      ]
    },
    {
      "cell_type": "code",
      "metadata": {
        "colab": {
          "base_uri": "https://localhost:8080/"
        },
        "id": "9Yz80esz94Xs",
        "outputId": "0c4ef4a0-d620-4d24-a6ef-09a8064fcf34"
      },
      "source": [
        "p4 = datadict4['bearing']['sr'].tolist()\n",
        "psr4 = p4[0][0][0][0]\n",
        "print(\"The Sampling Rate in Hz: \", psr4)"
      ],
      "execution_count": null,
      "outputs": [
        {
          "output_type": "stream",
          "name": "stdout",
          "text": [
            "The Sampling Rate in Hz:  48828\n"
          ]
        }
      ]
    },
    {
      "cell_type": "code",
      "metadata": {
        "colab": {
          "base_uri": "https://localhost:8080/",
          "height": 663
        },
        "id": "KNygrSIM9980",
        "outputId": "62f7def9-f292-4cbc-b27e-275c2642e9aa"
      },
      "source": [
        "rounded_psr_1 = int(psr1/10)\n",
        "range_of_samples = range(0, rounded_psr_1)\n",
        "rounded_psr_3 = int(psr3/10)\n",
        "range_of_samples3 = range(0, rounded_psr_3)\n",
        "\n",
        "fig, axs = plt.subplots(2, 2, sharey=True, figsize=(10, 10), constrained_layout=True)\n",
        "\n",
        "axs[0, 0].plot(merged_G_3BL_data[range_of_samples])\n",
        "axs[0, 0].set_title('Nominal state (No Fault)')\n",
        "\n",
        "axs[0, 1].plot(merged_G_3OR_data[range_of_samples])\n",
        "axs[0, 1].set_title('Outer Race fault (3 BL Conditions)')\n",
        "\n",
        "axs[1, 0].plot(merged_G_7OR_data[range_of_samples3])\n",
        "axs[1, 0].set_title('Outer Race fault (7 Conditions & Variable Load)')\n",
        "\n",
        "axs[1, 1].plot(merged_G_7IR_data[range_of_samples3])\n",
        "axs[1, 1].set_title('Inner Race fault (7 Conditions & Variable Load)')\n",
        "\n",
        "for ax in axs.flat:\n",
        "    ax.set(xlabel='time $(s)$', ylabel='acceleration $(m/s^2)$')\n",
        "\n",
        "# Hide x labels and tick labels for top plots and y ticks for right plots.\n",
        "#for ax in axs.flat:\n",
        "    #ax.label_outer()"
      ],
      "execution_count": null,
      "outputs": [
        {
          "output_type": "display_data",
          "data": {
            "image/png": "[encoded data removed]",
            "text/plain": [
              "<Figure size 720x720 with 4 Axes>"
            ]
          },
          "metadata": {
            "needs_background": "light"
          }
        }
      ]
    },
    {
      "cell_type": "code",
      "metadata": {
        "colab": {
          "base_uri": "https://localhost:8080/",
          "height": 67
        },
        "id": "DpIJHtgh-AZP",
        "outputId": "3ededccc-62f0-42fd-8607-dc71cf6b5070"
      },
      "source": [
        "display(Gdata1.flatten())\n",
        "display(len(Gdata3.flatten()))"
      ],
      "execution_count": null,
      "outputs": [
        {
          "output_type": "display_data",
          "data": {
            "text/plain": [
              "array([ 0.8315881,  0.0387017,  0.4676445, ..., -0.8111974, -0.3338806,\n",
              "       -0.4876291])"
            ]
          },
          "metadata": {}
        },
        {
          "output_type": "display_data",
          "data": {
            "text/plain": [
              "146484"
            ]
          },
          "metadata": {}
        }
      ]
    },
    {
      "cell_type": "code",
      "metadata": {
        "id": "BacqpjOf-Cnh"
      },
      "source": [
        "def split_exact(x, n_chunks=2, axis=1):\n",
        "    import numpy as np\n",
        "    l = np.shape(x)[axis]\n",
        "    x_split = x\n",
        "    if l > n_chunks > 1:\n",
        "        n = n_chunks\n",
        "        if axis == 0:\n",
        "            x_split = np.split(x[:-(l % n)], n, axis=axis)\n",
        "        elif axis == 1:\n",
        "            x_split = np.split(x[:, :-(l % n)], n, axis=axis)\n",
        "    return x_split"
      ],
      "execution_count": null,
      "outputs": []
    },
    {
      "cell_type": "code",
      "metadata": {
        "id": "vve1dvGe-E3F"
      },
      "source": [
        "import numpy as np\n",
        "\n",
        "def g_data_load(gdata, chunk_size=128):\n",
        "    \"\"\"\n",
        "    Change loaded mat files and splits it in chunks of size chunk_size\n",
        "    \"\"\"\n",
        "    y_n: ndarray = np.array([])\n",
        "    # signal\n",
        "    x = gdata.flatten()\n",
        "    x = x / np.std(x)\n",
        "    y_n = np.append(y_n, x)\n",
        "    n_splits = len(y_n) // chunk_size\n",
        "    print(n_splits)\n",
        "    y_n = split_exact(y_n, n_chunks=n_splits, axis=0)\n",
        "\n",
        "    return y_n"
      ],
      "execution_count": null,
      "outputs": []
    },
    {
      "cell_type": "code",
      "metadata": {
        "colab": {
          "base_uri": "https://localhost:8080/",
          "height": 101
        },
        "id": "mWTYsbfB-HZT",
        "outputId": "8b57d341-661c-409f-c98b-4ccda1c5b5c1"
      },
      "source": [
        "chunk_size_1 = rounded_psr_1\n",
        "number_of_chunks_1 = chunk_size_1 + 200\n",
        "\n",
        "chunk_size_2 = rounded_psr_3\n",
        "number_of_chunks_2 = chunk_size_2 + 200\n",
        "\n",
        "nominal_data_clean = g_data_load(merged_G_3BL_data, chunk_size=chunk_size_1) \n",
        "or_data_fixed_clean =  g_data_load(merged_G_3OR_data, chunk_size=chunk_size_1)\n",
        "or_data_var_clean =  g_data_load(merged_G_7OR_data, chunk_size=chunk_size_2)\n",
        "ir_data_var_clean =  g_data_load(merged_G_7IR_data, chunk_size=chunk_size_2)\n",
        "\n",
        "display(len(nominal_data_clean))"
      ],
      "execution_count": null,
      "outputs": [
        {
          "output_type": "stream",
          "name": "stdout",
          "text": [
            "180\n",
            "180\n",
            "210\n",
            "210\n"
          ]
        },
        {
          "output_type": "display_data",
          "data": {
            "text/plain": [
              "180"
            ]
          },
          "metadata": {}
        }
      ]
    },
    {
      "cell_type": "code",
      "metadata": {
        "id": "K9g31oHE-KgO"
      },
      "source": [
        "def min_max_norm(ary):\n",
        "    ary = (ary - ary.min()) / np.abs(ary.max() - ary.min())\n",
        "    return ary"
      ],
      "execution_count": null,
      "outputs": []
    },
    {
      "cell_type": "code",
      "metadata": {
        "id": "2ECRLB_0-Neu"
      },
      "source": [
        "from scipy import signal\n",
        "from skimage.transform import resize\n",
        "\n",
        "def generate_spectrogram_image(data_y_vector, image_shape, fs):\n",
        "    \"\"\"\n",
        "    Calculate the spectrogram of an array data_y_vector and resize it in \n",
        "    the image_shape resolution\n",
        "    \"\"\"\n",
        "    data_y_vector_len = np.shape(data_y_vector)[0]\n",
        "\n",
        "    f, t, sxx = signal.spectrogram(\n",
        "        data_y_vector,\n",
        "        fs)\n",
        "\n",
        "    sxx = min_max_norm(sxx)\n",
        "    sxx = resize(sxx, image_shape, mode='constant', anti_aliasing=True)\n",
        "\n",
        "    return sxx"
      ],
      "execution_count": null,
      "outputs": []
    },
    {
      "cell_type": "markdown",
      "metadata": {
        "id": "bMXiTltdzzqG"
      },
      "source": [
        "Short Time Fourier Transform\n",
        "\n",
        "The function generate_spectrogram_image(data_y_vector, image_shape) takes a time series as input and the resolution of the image that it will generate and returns the Short time Fourier normalized in the range [0,1]."
      ]
    },
    {
      "cell_type": "code",
      "metadata": {
        "colab": {
          "base_uri": "https://localhost:8080/",
          "height": 311
        },
        "id": "pG8cVMTo-RKL",
        "outputId": "c468a02f-b1be-487d-c8fc-45107e8f4768"
      },
      "source": [
        "plt.xlabel(\"time $(s)$\")\n",
        "plt.ylabel(\"frequency $(Hz)$\")\n",
        "plt.title('Outer Race fault (7 Conditions & Variable Load)')\n",
        "plt.plot(generate_spectrogram_image(or_data_var_clean[1], (128, 128), psr3))\n",
        "plt.suptitle('Time-Frequency Image')\n",
        "plt.show()\n"
      ],
      "execution_count": null,
      "outputs": [
        {
          "output_type": "display_data",
          "data": {
            "image/png": "[encoded data removed]",
            "text/plain": [
              "<Figure size 432x288 with 1 Axes>"
            ]
          },
          "metadata": {
            "needs_background": "light"
          }
        }
      ]
    },
    {
      "cell_type": "markdown",
      "metadata": {
        "id": "CDsDOqOuzMqH"
      },
      "source": [
        "Building the CNN \n",
        "\n",
        "Data Chunking -\n",
        "\n",
        "\n",
        "> Indented block\n",
        "\n",
        "\n",
        "Divide the signal in chunks of size chunk_size, and take a subset number_of_chunks from all the available for training and testing the CNN.\n",
        "A chunk is simply a sequential subset of the time series data with a fixed length - the chunk_size.\n",
        "\n",
        "Every chunk is distinct - no overlapping samples in different chunks.\n",
        "This method is tumbling time windowing\n",
        "Each time series is an array, and they have slight difference in length.\n",
        "If a chunk size is fixed to divide the file, a function is needed to split the data exaclty in number_of_chunks of chunk_size and get rid of the remaining part.\n",
        "\n",
        "A function, split_exact, which takes the array to be splitted, the number of chunks and the array axis to be splitted."
      ]
    },
    {
      "cell_type": "code",
      "metadata": {
        "id": "s1uJdV1D-TB0"
      },
      "source": [
        "def try_make_directories():     \n",
        "    data_directories = [\"dataset\", \"npy_dataset\"]\n",
        "    for directory in data_directories:\n",
        "        try:\n",
        "            os.makedirs(f'./{directory}')\n",
        "        except OSError as e:\n",
        "            if e.errno != errno.EEXIST:\n",
        "                raise"
      ],
      "execution_count": null,
      "outputs": []
    },
    {
      "cell_type": "markdown",
      "metadata": {
        "id": "5InKhyxrzorG"
      },
      "source": [
        "Feature Engineering\n",
        "\n",
        "\n",
        "i. Each chunk of data is preprocessed.\n",
        "\n",
        "\n",
        "ii. A time/fequency image of each chunk is extracted with three different preprocessing techniques.\n",
        "\n",
        "\n",
        "iii. For all the images a min max normalization is used, to have color mapping only in the range [0,1]."
      ]
    },
    {
      "cell_type": "code",
      "metadata": {
        "id": "EuNZLqsFBv2R"
      },
      "source": [
        "from tqdm import tqdm\n",
        "from enum import Enum\n",
        "#\n",
        "def create_image_by_label_database(\n",
        "        number_of_chunks,\n",
        "        chunk_size,\n",
        "        image_types,\n",
        "        image_shape,\n",
        "        noise_scale = 0.0,\n",
        "        shuffle_chunks_across_time=True,\n",
        "        overwrite_existing_file=False):\n",
        "\n",
        "    try_make_directories()\n",
        "\n",
        "    filename_for_images_by_labels = npy_dataset_filename(\n",
        "        number_of_chunks,\n",
        "        chunk_size,\n",
        "        image_types,\n",
        "        image_shape,\n",
        "        noise_scale,\n",
        "        shuffle_chunks_across_time\n",
        "    )\n",
        "\n",
        "    if overwrite_existing_file is False:\n",
        "        import os\n",
        "        if os.path.isfile(filename_for_images_by_labels):\n",
        "            print(\n",
        "                \"File already exists. Use 'overwrite_existing_file' if you wish to regenerate and overwrite it. Bye.\")\n",
        "            return\n",
        "#\n",
        "    #run the cell titled load g data\n",
        "    len_n = np.shape(nominal_data_clean)[0]\n",
        "    display(len_n)\n",
        "    len_or_f = np.shape(or_data_fixed_clean)[0]\n",
        "    len_data = min(len_n, len_or_f, number_of_chunks_1)\n",
        "    \n",
        "    len_or_v = np.shape(or_data_var_clean)[0]\n",
        "    len_ir = np.shape(ir_data_var_clean)[0]\n",
        "    len_data_2 = min(len_or_v, len_ir, number_of_chunks_2)\n",
        "\n",
        "\n",
        "    nominal_data = [x + y for x, y in zip(nominal_data_clean, [np.random.normal(0, noise_scale, chunk_size_1) for i in range(len_n)])]\n",
        "    or_data_fixed = [x + y for x, y in zip(or_data_fixed_clean, [np.random.normal(0, noise_scale, chunk_size_1) for i in range(len_or_f)])]\n",
        "    or_data_var = [x + y for x, y in zip(or_data_var_clean, [np.random.normal(0, noise_scale, chunk_size_2) for i in range(len_or_v)])]\n",
        "    ir_data_var = [x + y for x, y in zip(ir_data_var_clean, [np.random.normal(0, noise_scale, chunk_size_2) for i in range(len_ir)])]\n",
        "    \n",
        "    if shuffle_chunks_across_time:\n",
        "        # so the first N chunks will be taken at random time from the whole time window\n",
        "        np.random.shuffle(nominal_data)\n",
        "        np.random.shuffle(or_data_fixed)\n",
        "        np.random.shuffle(or_data_var)\n",
        "        np.random.shuffle(ir_data_var)\n",
        "        \n",
        "\n",
        "    images_by_labels = {'n': [], 'orf': [], 'orv': [], 'irv': []}\n",
        "    #1st Sampling Rate\n",
        "    for i in tqdm(np.arange(len_data)):\n",
        "        n_images = generate_rgba_images_from_data(nominal_data[i], image_shape, image_types, psr1)\n",
        "        or_fixed_images = generate_rgba_images_from_data(or_data_fixed[i], image_shape, image_types, psr1)        \n",
        "\n",
        "        images_by_labels['n'].extend(n_images)\n",
        "        images_by_labels['orf'].extend(or_fixed_images)\n",
        "\n",
        "    print(f'Saving {filename_for_images_by_labels}')\n",
        "    np.save(f'{filename_for_images_by_labels}', images_by_labels)\n",
        "    #2ndSampling Rate\n",
        "    for i in tqdm(np.arange(len_data_2)):\n",
        "        or_var_images = generate_rgba_images_from_data(or_data_var[i], image_shape, image_types, psr2)\n",
        "        ir_images = generate_rgba_images_from_data(ir_data_var[i], image_shape, image_types, psr2)\n",
        "\n",
        "\n",
        "        images_by_labels['orv'].extend(or_var_images)\n",
        "        images_by_labels['irv'].extend(ir_images)\n",
        "        \n",
        "\n",
        "    print(f'Saving {filename_for_images_by_labels}')\n",
        "    np.save(f'{filename_for_images_by_labels}', images_by_labels)\n",
        "#\n",
        "def npy_dataset_filename(\n",
        "        number_of_chunks,\n",
        "        chunk_size,\n",
        "        image_types,\n",
        "        image_shape,\n",
        "        noise_scale,\n",
        "        chunks_are_shuffled_across_time):\n",
        "    filename_suffix = \\\n",
        "        f'__chunks={number_of_chunks}' \\\n",
        "        f'_size={chunk_size}' \\\n",
        "        f'_types{\"-\".join([str(t)[10:12] for t in image_types])}' + \\\n",
        "        (f'_noise{noise_scale}' if noise_scale > 0 else '') + \\\n",
        "        (f'_timeshuffled' if chunks_are_shuffled_across_time else '') + \\\n",
        "        f'_shape{image_shape[0]}-{image_shape[1]}'\n",
        "    filename = f'./npy_dataset/images_by_labels_for_cnn{filename_suffix}.npy'\n",
        "    return filename\n",
        "\n",
        "def generate_rgba_images_from_data(\n",
        "        vector_y_data,\n",
        "        image_shape,\n",
        "        image_types, fs2):\n",
        "    images = []\n",
        "    if ImageType.SCALOGRAM in image_types:\n",
        "        images.append(generate_scalogram_image(vector_y_data, image_shape, fs2))\n",
        "    if ImageType.SPECTROGRAM in image_types:\n",
        "        images.append(generate_spectrogram_image(vector_y_data, image_shape, fs2))\n",
        "    if ImageType.QTRANSFORM in image_types:\n",
        "        images.append(generate_qtransform_image(vector_y_data, image_shape, fs2))\n",
        "\n",
        "    images_rgba = ary_to_rgba(images)\n",
        "\n",
        "    return images_rgba\n",
        "#\n",
        "#\n",
        "def ary_to_rgba(ary, nchannels=4):\n",
        "    from matplotlib import cm\n",
        "\n",
        "    ary_dim = (np.shape(ary))\n",
        "\n",
        "    im = np.empty(shape=(ary_dim[0], ary_dim[1], ary_dim[2], nchannels)).astype('uint8')\n",
        "    for i in np.arange(0, len(ary)):\n",
        "        im[i, :] = cm.ScalarMappable(cmap='viridis').to_rgba(10 * np.log(ary[i] + 0.001), bytes=True, norm=True)\n",
        "    return im\n",
        "#\n",
        "\n",
        "class ImageType(Enum):\n",
        "    SCALOGRAM = 1\n",
        "    SPECTROGRAM = 2\n",
        "    QTRANSFORM = 3\n"
      ],
      "execution_count": null,
      "outputs": []
    },
    {
      "cell_type": "markdown",
      "metadata": {
        "id": "Z_OMHYiA0CBd"
      },
      "source": [
        "Data shuffling\n",
        "\n",
        "Create several images to use to train the CNN.\n",
        "\n",
        "Some functions needed to help in creating the folders in which the images will be stored, and to label correctly the file generated, depending on the parameters chosen, such as number_of_chunks, chunk_size, image_shape in dpi.\n",
        "A random shuffling implemented between the chunks at this stage, to avoid that the CNN is trained on images that are representative of adjacent time windows."
      ]
    },
    {
      "cell_type": "code",
      "metadata": {
        "id": "0E0eD_io-gZm"
      },
      "source": [
        "chunk_size = chunk_size_1\n",
        "number_of_chunks= number_of_chunks_1\n",
        "image_types=[ImageType.SPECTROGRAM]\n",
        "image_shape = (96, 96)\n",
        "shuffle_chunks_across_time=True"
      ],
      "execution_count": null,
      "outputs": []
    },
    {
      "cell_type": "code",
      "metadata": {
        "colab": {
          "base_uri": "https://localhost:8080/",
          "height": 121
        },
        "id": "xUUV1m5S-jb0",
        "outputId": "aa5c8a1e-2645-4916-a062-842ef096dd32"
      },
      "source": [
        "create_image_by_label_database(\n",
        "    number_of_chunks=number_of_chunks_1, \n",
        "    chunk_size=chunk_size_1, \n",
        "    image_types=image_types, \n",
        "    image_shape=image_shape, \n",
        "    shuffle_chunks_across_time=shuffle_chunks_across_time,\n",
        "    overwrite_existing_file=True)"
      ],
      "execution_count": null,
      "outputs": [
        {
          "output_type": "display_data",
          "data": {
            "text/plain": [
              "180"
            ]
          },
          "metadata": {}
        },
        {
          "output_type": "stream",
          "name": "stderr",
          "text": [
            "100%|██████████| 180/180 [00:01<00:00, 108.15it/s]\n"
          ]
        },
        {
          "output_type": "stream",
          "name": "stdout",
          "text": [
            "Saving ./npy_dataset/images_by_labels_for_cnn__chunks=9965_size=9765_typesSP_timeshuffled_shape96-96.npy\n"
          ]
        },
        {
          "output_type": "stream",
          "name": "stderr",
          "text": [
            "100%|██████████| 210/210 [00:01<00:00, 122.35it/s]\n"
          ]
        },
        {
          "output_type": "stream",
          "name": "stdout",
          "text": [
            "Saving ./npy_dataset/images_by_labels_for_cnn__chunks=9965_size=9765_typesSP_timeshuffled_shape96-96.npy\n"
          ]
        }
      ]
    },
    {
      "cell_type": "code",
      "metadata": {
        "id": "PcSvmuvx-lNQ"
      },
      "source": [
        "chunk_size = chunk_size_2\n",
        "number_of_chunks= number_of_chunks_2\n",
        "image_types=[ImageType.SPECTROGRAM]\n",
        "image_shape = (96, 96)\n",
        "shuffle_chunks_across_time=True"
      ],
      "execution_count": null,
      "outputs": []
    },
    {
      "cell_type": "code",
      "metadata": {
        "colab": {
          "base_uri": "https://localhost:8080/",
          "height": 121
        },
        "id": "CzezTRkM_n-k",
        "outputId": "df1a7e9b-5290-452d-9239-2a590cbb7d99"
      },
      "source": [
        "create_image_by_label_database(\n",
        "    number_of_chunks=number_of_chunks_2, \n",
        "    chunk_size=chunk_size, \n",
        "    image_types=image_types, \n",
        "    image_shape=image_shape, \n",
        "    shuffle_chunks_across_time=shuffle_chunks_across_time,\n",
        "    overwrite_existing_file=True)"
      ],
      "execution_count": null,
      "outputs": [
        {
          "output_type": "display_data",
          "data": {
            "text/plain": [
              "180"
            ]
          },
          "metadata": {}
        },
        {
          "output_type": "stream",
          "name": "stderr",
          "text": [
            "100%|██████████| 180/180 [00:01<00:00, 113.63it/s]\n"
          ]
        },
        {
          "output_type": "stream",
          "name": "stdout",
          "text": [
            "Saving ./npy_dataset/images_by_labels_for_cnn__chunks=5082_size=4882_typesSP_timeshuffled_shape96-96.npy\n"
          ]
        },
        {
          "output_type": "stream",
          "name": "stderr",
          "text": [
            "100%|██████████| 210/210 [00:01<00:00, 124.27it/s]\n"
          ]
        },
        {
          "output_type": "stream",
          "name": "stdout",
          "text": [
            "Saving ./npy_dataset/images_by_labels_for_cnn__chunks=5082_size=4882_typesSP_timeshuffled_shape96-96.npy\n"
          ]
        }
      ]
    },
    {
      "cell_type": "code",
      "metadata": {
        "id": "DS32BIJK_u_Z"
      },
      "source": [
        "chunk_size = chunk_size_1\n",
        "number_of_chunks= number_of_chunks_1\n",
        "image_types=[ImageType.SPECTROGRAM]\n",
        "image_shape = (96, 96)\n",
        "shuffle_chunks_across_time=True"
      ],
      "execution_count": null,
      "outputs": []
    },
    {
      "cell_type": "code",
      "metadata": {
        "id": "oQCdHnasCJ5d"
      },
      "source": [
        "def load_images_by_labels_by_params(\n",
        "        number_of_chunks,\n",
        "        chunk_size,\n",
        "        image_types ,\n",
        "        image_shape,\n",
        "        noise_scale = 0.0,\n",
        "        chunks_are_shuffled_across_time=True):\n",
        "    filename = npy_dataset_filename(\n",
        "        number_of_chunks,\n",
        "        chunk_size,\n",
        "        image_types,\n",
        "        image_shape,\n",
        "        noise_scale,\n",
        "        chunks_are_shuffled_across_time)\n",
        "\n",
        "    loaded = np.load(filename, allow_pickle=True)\n",
        "    print(f\"Successfully loaded file {filename}\")\n",
        "    return loaded.item()  # item() gets the actual dictionary from the loaded object"
      ],
      "execution_count": null,
      "outputs": []
    },
    {
      "cell_type": "code",
      "metadata": {
        "colab": {
          "base_uri": "https://localhost:8080/"
        },
        "id": "cCtOZrHRCLlA",
        "outputId": "d8bb7977-c43b-4b84-f040-ef5b226d819c"
      },
      "source": [
        "images_by_labels_for_cnn = load_images_by_labels_by_params(\n",
        "    chunk_size=chunk_size, \n",
        "    number_of_chunks=number_of_chunks,     \n",
        "    image_types=image_types, \n",
        "    image_shape=image_shape,\n",
        "    chunks_are_shuffled_across_time = shuffle_chunks_across_time)"
      ],
      "execution_count": null,
      "outputs": [
        {
          "output_type": "stream",
          "name": "stdout",
          "text": [
            "Successfully loaded file ./npy_dataset/images_by_labels_for_cnn__chunks=9965_size=9765_typesSP_timeshuffled_shape96-96.npy\n"
          ]
        }
      ]
    },
    {
      "cell_type": "code",
      "metadata": {
        "id": "TNoK1mHGCNOm"
      },
      "source": [
        "def separate_images_from_labels(images_by_labels, interleave: bool):\n",
        "    all_labels = list(images_by_labels.keys())\n",
        "    NB_CLASSES = len(all_labels)\n",
        "    all_labels_onehot = np.identity(NB_CLASSES).astype('uint8')\n",
        "    label_to_onehot_mapper = {all_labels[i]: all_labels_onehot[i] for i in np.arange(NB_CLASSES)}\n",
        "\n",
        "    all_images_for_cnn = []\n",
        "    all_labels_for_cnn_onehot = []\n",
        "\n",
        "    for key in all_labels:\n",
        "        images = images_by_labels[key]\n",
        "        labels_onehot = np.full(shape=(len(images), NB_CLASSES), fill_value=label_to_onehot_mapper[key])\n",
        "\n",
        "        all_images_for_cnn.append(images)\n",
        "        all_labels_for_cnn_onehot.append(labels_onehot)\n",
        "\n",
        "    if interleave:\n",
        "        all_images_for_cnn = lists_interleave(all_images_for_cnn)\n",
        "        all_labels_for_cnn_onehot = lists_interleave(all_labels_for_cnn_onehot)\n",
        "    else:  # flatten the lists\n",
        "        all_images_for_cnn = [image for sublist in all_images_for_cnn for image in sublist]\n",
        "        all_labels_for_cnn_onehot = [label for sublist in all_labels_for_cnn_onehot for label in sublist]\n",
        "\n",
        "    return np.array(all_images_for_cnn), np.array(all_labels_for_cnn_onehot)\n",
        "                               \n",
        "def lists_interleave(lists):\n",
        "    return [val for tup in zip(*lists) for val in tup]"
      ],
      "execution_count": null,
      "outputs": []
    },
    {
      "cell_type": "code",
      "metadata": {
        "colab": {
          "base_uri": "https://localhost:8080/",
          "height": 134
        },
        "id": "nARoos09CPiy",
        "outputId": "1ef0659f-a59e-4f4a-d528-e6aec2fb5dd6"
      },
      "source": [
        "from sklearn.model_selection import train_test_split\n",
        "\n",
        "images_for_cnn, labels_for_cnn_onehot = separate_images_from_labels(images_by_labels_for_cnn, interleave=True)\n",
        "display(labels_for_cnn_onehot)\n",
        "images_train, images_test, labels_train_onehot, labels_test_onehot = \\\n",
        "    train_test_split(\n",
        "        images_for_cnn, \n",
        "        labels_for_cnn_onehot, \n",
        "        test_size=0.20, \n",
        "        random_state=42)"
      ],
      "execution_count": null,
      "outputs": [
        {
          "output_type": "display_data",
          "data": {
            "text/plain": [
              "array([[1, 0, 0, 0],\n",
              "       [0, 1, 0, 0],\n",
              "       [0, 0, 1, 0],\n",
              "       ...,\n",
              "       [0, 1, 0, 0],\n",
              "       [0, 0, 1, 0],\n",
              "       [0, 0, 0, 1]], dtype=uint8)"
            ]
          },
          "metadata": {}
        }
      ]
    },
    {
      "cell_type": "markdown",
      "metadata": {
        "id": "KtDIyDG-0Pdl"
      },
      "source": [
        "CNN model with Keras\n",
        "\n",
        "\n",
        "(a) The problem - a supervised classification problem, with 4 classes. Convolutional Neural Networks implemented as Sequential Keras model. Here Keras exploits TensorFlow as backend for the tensor arithmetics.\n",
        "\n",
        "\n",
        "(b) The images that previously generated form a tuple (number of images, x dpi, y dpi, number of channels).\n",
        "\n",
        "\n",
        "(c) Categorical cross-entropy loss function and ADAM optimizer and Leaky RELU activation function.\n",
        "\n",
        "\n",
        "(d) The learning rate has been found by using cyclical learning rate algorithm of Smith. An implementation of the algorithm by Keras callback is in the ./colab folder."
      ]
    },
    {
      "cell_type": "code",
      "metadata": {
        "id": "GryUz9t-CsRk"
      },
      "source": [
        "import tensorflow as tf"
      ],
      "execution_count": null,
      "outputs": []
    },
    {
      "cell_type": "code",
      "metadata": {
        "id": "9NrCXevWCSWe"
      },
      "source": [
        "from keras import optimizers\n",
        "\n",
        "## input data parameters\n",
        "IMAGES_SHAPE = (96, 96, 4)\n",
        "PADDING = 'same'\n",
        "KERNEL_SIZE = (5, 5)\n",
        "KERNEL_INITIALIZER = 'glorot_normal'\n",
        "# parameters for deep layers\n",
        "NUMBER_OF_CLASSES = 4  # \"N\", \"OR_F\", \"OR_V\", \"IR\"\n",
        "DROPOUT = 0.5\n",
        "LEAK_ALPHA = 0.1  #Learning rate?\n",
        "MAX_POOLING_POOL_SIZE = (2, 2)\n",
        "ACTIVATION_LAYER_FUNCTION = 'softmax'\n",
        "# loss and optimizer\n",
        "LOSS_FUNCTION = 'categorical_crossentropy'\n",
        "LEARNING_RATE = 0.001  #Learning rate alpha\n",
        "OPTIMIZER = tf.optimizers.Adam(LEARNING_RATE, epsilon=10e-6)"
      ],
      "execution_count": null,
      "outputs": []
    },
    {
      "cell_type": "code",
      "metadata": {
        "colab": {
          "base_uri": "https://localhost:8080/"
        },
        "id": "OWI0rNs1CUoD",
        "outputId": "4a289eca-9359-4a74-893d-fb06a2379976"
      },
      "source": [
        "import keras\n",
        "from keras.models import Sequential\n",
        "from keras.layers.core import Dense, Dropout, Activation, Flatten\n",
        "from keras.layers.convolutional import Conv2D, MaxPooling2D\n",
        "from keras.layers import LeakyReLU\n",
        "from keras import metrics\n",
        "\n",
        "\n",
        "# CNN architecture from Guo et al.\n",
        "model = Sequential()\n",
        "model.add(Conv2D(5, KERNEL_SIZE,                  \n",
        "                 input_shape=IMAGES_SHAPE,\n",
        "                 data_format='channels_last',\n",
        "                 kernel_initializer=KERNEL_INITIALIZER,                 \n",
        "                 padding=PADDING))\n",
        "model.add(LeakyReLU(LEAK_ALPHA))\n",
        "model.add(Conv2D(10, KERNEL_SIZE, \n",
        "                 kernel_initializer=KERNEL_INITIALIZER,\n",
        "                 padding=PADDING))\n",
        "model.add(LeakyReLU(LEAK_ALPHA))\n",
        "model.add(MaxPooling2D(pool_size=MAX_POOLING_POOL_SIZE))\n",
        "model.add(Conv2D(10, KERNEL_SIZE, \n",
        "                 kernel_initializer=KERNEL_INITIALIZER,\n",
        "                 padding=PADDING))\n",
        "model.add(LeakyReLU(LEAK_ALPHA))\n",
        "model.add(MaxPooling2D(pool_size=MAX_POOLING_POOL_SIZE))\n",
        "model.add(Flatten())\n",
        "model.add(Dense(10))\n",
        "model.add(LeakyReLU(LEAK_ALPHA))\n",
        "model.add(Dense(5))\n",
        "model.add(LeakyReLU(LEAK_ALPHA))\n",
        "model.add(Dropout(DROPOUT))\n",
        "model.add(Dense(NUMBER_OF_CLASSES))\n",
        "model.add(Activation(ACTIVATION_LAYER_FUNCTION))\n",
        "  \n",
        "model.compile(loss=LOSS_FUNCTION, \n",
        "              optimizer=OPTIMIZER,\n",
        "              metrics=[metrics.categorical_accuracy])  \n",
        "model.summary()"
      ],
      "execution_count": null,
      "outputs": [
        {
          "output_type": "stream",
          "name": "stdout",
          "text": [
            "Model: \"sequential\"\n",
            "_________________________________________________________________\n",
            "Layer (type)                 Output Shape              Param #   \n",
            "=================================================================\n",
            "conv2d (Conv2D)              (None, 96, 96, 5)         505       \n",
            "_________________________________________________________________\n",
            "leaky_re_lu (LeakyReLU)      (None, 96, 96, 5)         0         \n",
            "_________________________________________________________________\n",
            "conv2d_1 (Conv2D)            (None, 96, 96, 10)        1260      \n",
            "_________________________________________________________________\n",
            "leaky_re_lu_1 (LeakyReLU)    (None, 96, 96, 10)        0         \n",
            "_________________________________________________________________\n",
            "max_pooling2d (MaxPooling2D) (None, 48, 48, 10)        0         \n",
            "_________________________________________________________________\n",
            "conv2d_2 (Conv2D)            (None, 48, 48, 10)        2510      \n",
            "_________________________________________________________________\n",
            "leaky_re_lu_2 (LeakyReLU)    (None, 48, 48, 10)        0         \n",
            "_________________________________________________________________\n",
            "max_pooling2d_1 (MaxPooling2 (None, 24, 24, 10)        0         \n",
            "_________________________________________________________________\n",
            "flatten (Flatten)            (None, 5760)              0         \n",
            "_________________________________________________________________\n",
            "dense (Dense)                (None, 10)                57610     \n",
            "_________________________________________________________________\n",
            "leaky_re_lu_3 (LeakyReLU)    (None, 10)                0         \n",
            "_________________________________________________________________\n",
            "dense_1 (Dense)              (None, 5)                 55        \n",
            "_________________________________________________________________\n",
            "leaky_re_lu_4 (LeakyReLU)    (None, 5)                 0         \n",
            "_________________________________________________________________\n",
            "dropout (Dropout)            (None, 5)                 0         \n",
            "_________________________________________________________________\n",
            "dense_2 (Dense)              (None, 4)                 24        \n",
            "_________________________________________________________________\n",
            "activation (Activation)      (None, 4)                 0         \n",
            "=================================================================\n",
            "Total params: 61,964\n",
            "Trainable params: 61,964\n",
            "Non-trainable params: 0\n",
            "_________________________________________________________________\n"
          ]
        }
      ]
    },
    {
      "cell_type": "code",
      "metadata": {
        "id": "ShQGenmDCW2L",
        "colab": {
          "base_uri": "https://localhost:8080/"
        },
        "outputId": "5f103b40-41c4-4416-a405-6d5159fa5089"
      },
      "source": [
        "BATCH_SIZE = 32\n",
        "NUMBER_OF_EPOCHS = 200\n",
        "VALIDATION_SPLIT = 0.25\n",
        "\n",
        "history = model.fit(\n",
        "    images_train, labels_train_onehot,\n",
        "    batch_size=BATCH_SIZE,\n",
        "    epochs=NUMBER_OF_EPOCHS, \n",
        "    validation_split=VALIDATION_SPLIT, \n",
        "    verbose=1)"
      ],
      "execution_count": null,
      "outputs": [
        {
          "output_type": "stream",
          "name": "stdout",
          "text": [
            "Epoch 1/200\n",
            "14/14 [==============================] - 11s 712ms/step - loss: 13.0935 - categorical_accuracy: 0.2500 - val_loss: 2.2471 - val_categorical_accuracy: 0.2361\n",
            "Epoch 2/200\n",
            "14/14 [==============================] - 10s 694ms/step - loss: 1.6216 - categorical_accuracy: 0.3194 - val_loss: 1.0734 - val_categorical_accuracy: 0.4722\n",
            "Epoch 3/200\n",
            "14/14 [==============================] - 10s 693ms/step - loss: 1.1191 - categorical_accuracy: 0.4398 - val_loss: 0.9864 - val_categorical_accuracy: 0.4931\n",
            "Epoch 4/200\n",
            "14/14 [==============================] - 10s 696ms/step - loss: 1.0924 - categorical_accuracy: 0.4144 - val_loss: 0.9759 - val_categorical_accuracy: 0.4931\n",
            "Epoch 5/200\n",
            "14/14 [==============================] - 10s 698ms/step - loss: 1.0707 - categorical_accuracy: 0.4028 - val_loss: 0.9438 - val_categorical_accuracy: 0.4861\n",
            "Epoch 6/200\n",
            "14/14 [==============================] - 10s 696ms/step - loss: 1.0742 - categorical_accuracy: 0.4352 - val_loss: 0.9394 - val_categorical_accuracy: 0.4931\n",
            "Epoch 7/200\n",
            "14/14 [==============================] - 10s 693ms/step - loss: 1.0402 - categorical_accuracy: 0.4630 - val_loss: 0.9732 - val_categorical_accuracy: 0.4722\n",
            "Epoch 8/200\n",
            "14/14 [==============================] - 10s 693ms/step - loss: 1.0704 - categorical_accuracy: 0.4653 - val_loss: 0.9270 - val_categorical_accuracy: 0.6944\n",
            "Epoch 9/200\n",
            "14/14 [==============================] - 10s 696ms/step - loss: 1.0019 - categorical_accuracy: 0.5069 - val_loss: 0.8779 - val_categorical_accuracy: 0.5000\n",
            "Epoch 10/200\n",
            "14/14 [==============================] - 10s 698ms/step - loss: 0.9718 - categorical_accuracy: 0.5440 - val_loss: 0.8697 - val_categorical_accuracy: 0.5139\n",
            "Epoch 11/200\n",
            "14/14 [==============================] - 10s 692ms/step - loss: 0.9611 - categorical_accuracy: 0.5162 - val_loss: 0.8424 - val_categorical_accuracy: 0.6875\n",
            "Epoch 12/200\n",
            "14/14 [==============================] - 10s 696ms/step - loss: 0.9543 - categorical_accuracy: 0.5463 - val_loss: 0.8302 - val_categorical_accuracy: 0.6944\n",
            "Epoch 13/200\n",
            "14/14 [==============================] - 10s 695ms/step - loss: 0.9258 - categorical_accuracy: 0.5463 - val_loss: 0.8379 - val_categorical_accuracy: 0.7986\n",
            "Epoch 14/200\n",
            "14/14 [==============================] - 10s 694ms/step - loss: 0.9039 - categorical_accuracy: 0.6111 - val_loss: 0.7256 - val_categorical_accuracy: 0.7222\n",
            "Epoch 15/200\n",
            "14/14 [==============================] - 10s 699ms/step - loss: 0.8874 - categorical_accuracy: 0.5764 - val_loss: 0.7875 - val_categorical_accuracy: 0.7431\n",
            "Epoch 16/200\n",
            "14/14 [==============================] - 10s 699ms/step - loss: 0.8818 - categorical_accuracy: 0.5880 - val_loss: 0.7709 - val_categorical_accuracy: 0.6458\n",
            "Epoch 17/200\n",
            "14/14 [==============================] - 10s 695ms/step - loss: 0.9200 - categorical_accuracy: 0.6065 - val_loss: 0.6656 - val_categorical_accuracy: 0.7083\n",
            "Epoch 18/200\n",
            "14/14 [==============================] - 10s 697ms/step - loss: 0.8524 - categorical_accuracy: 0.5995 - val_loss: 0.5277 - val_categorical_accuracy: 0.7847\n",
            "Epoch 19/200\n",
            "14/14 [==============================] - 10s 695ms/step - loss: 0.8038 - categorical_accuracy: 0.6435 - val_loss: 0.6297 - val_categorical_accuracy: 0.7847\n",
            "Epoch 20/200\n",
            "14/14 [==============================] - 10s 698ms/step - loss: 0.8089 - categorical_accuracy: 0.6227 - val_loss: 0.5688 - val_categorical_accuracy: 0.7778\n",
            "Epoch 21/200\n",
            "14/14 [==============================] - 10s 696ms/step - loss: 0.7321 - categorical_accuracy: 0.6713 - val_loss: 0.5183 - val_categorical_accuracy: 0.8403\n",
            "Epoch 22/200\n",
            "14/14 [==============================] - 10s 694ms/step - loss: 0.6588 - categorical_accuracy: 0.6968 - val_loss: 0.4999 - val_categorical_accuracy: 0.9306\n",
            "Epoch 23/200\n",
            "14/14 [==============================] - 10s 695ms/step - loss: 0.6977 - categorical_accuracy: 0.7037 - val_loss: 0.4625 - val_categorical_accuracy: 0.8750\n",
            "Epoch 24/200\n",
            "14/14 [==============================] - 10s 697ms/step - loss: 0.6889 - categorical_accuracy: 0.7176 - val_loss: 0.4262 - val_categorical_accuracy: 0.8125\n",
            "Epoch 25/200\n",
            "14/14 [==============================] - 10s 698ms/step - loss: 0.6050 - categorical_accuracy: 0.7569 - val_loss: 0.2212 - val_categorical_accuracy: 0.9514\n",
            "Epoch 26/200\n",
            "14/14 [==============================] - 10s 698ms/step - loss: 0.5327 - categorical_accuracy: 0.7778 - val_loss: 0.3236 - val_categorical_accuracy: 0.9583\n",
            "Epoch 27/200\n",
            "14/14 [==============================] - 10s 696ms/step - loss: 0.5706 - categorical_accuracy: 0.7662 - val_loss: 0.1688 - val_categorical_accuracy: 0.9653\n",
            "Epoch 28/200\n",
            "14/14 [==============================] - 10s 697ms/step - loss: 0.4678 - categorical_accuracy: 0.7778 - val_loss: 0.1703 - val_categorical_accuracy: 0.9722\n",
            "Epoch 29/200\n",
            "14/14 [==============================] - 10s 696ms/step - loss: 0.4586 - categorical_accuracy: 0.8241 - val_loss: 0.1799 - val_categorical_accuracy: 0.9722\n",
            "Epoch 30/200\n",
            "14/14 [==============================] - 10s 697ms/step - loss: 0.4797 - categorical_accuracy: 0.7917 - val_loss: 0.1727 - val_categorical_accuracy: 0.9583\n",
            "Epoch 31/200\n",
            "14/14 [==============================] - 10s 696ms/step - loss: 0.4869 - categorical_accuracy: 0.7639 - val_loss: 0.1664 - val_categorical_accuracy: 0.9722\n",
            "Epoch 32/200\n",
            "14/14 [==============================] - 10s 699ms/step - loss: 0.4401 - categorical_accuracy: 0.8009 - val_loss: 0.1430 - val_categorical_accuracy: 0.9792\n",
            "Epoch 33/200\n",
            "14/14 [==============================] - 10s 697ms/step - loss: 0.3993 - categorical_accuracy: 0.8449 - val_loss: 0.0971 - val_categorical_accuracy: 0.9792\n",
            "Epoch 34/200\n",
            "14/14 [==============================] - 10s 698ms/step - loss: 0.4111 - categorical_accuracy: 0.8032 - val_loss: 0.0890 - val_categorical_accuracy: 0.9861\n",
            "Epoch 35/200\n",
            "14/14 [==============================] - 10s 700ms/step - loss: 0.3846 - categorical_accuracy: 0.8264 - val_loss: 0.0670 - val_categorical_accuracy: 0.9861\n",
            "Epoch 36/200\n",
            "14/14 [==============================] - 10s 698ms/step - loss: 0.3992 - categorical_accuracy: 0.8148 - val_loss: 0.0604 - val_categorical_accuracy: 0.9931\n",
            "Epoch 37/200\n",
            "14/14 [==============================] - 10s 699ms/step - loss: 0.4114 - categorical_accuracy: 0.8125 - val_loss: 0.0977 - val_categorical_accuracy: 0.9722\n",
            "Epoch 38/200\n",
            "14/14 [==============================] - 10s 700ms/step - loss: 0.3469 - categorical_accuracy: 0.8495 - val_loss: 0.1168 - val_categorical_accuracy: 0.9653\n",
            "Epoch 39/200\n",
            "14/14 [==============================] - 10s 696ms/step - loss: 0.3471 - categorical_accuracy: 0.8403 - val_loss: 0.0918 - val_categorical_accuracy: 0.9722\n",
            "Epoch 40/200\n",
            "14/14 [==============================] - 10s 697ms/step - loss: 0.3089 - categorical_accuracy: 0.8796 - val_loss: 0.0605 - val_categorical_accuracy: 0.9792\n",
            "Epoch 41/200\n",
            "14/14 [==============================] - 10s 699ms/step - loss: 0.3152 - categorical_accuracy: 0.8472 - val_loss: 0.0205 - val_categorical_accuracy: 0.9931\n",
            "Epoch 42/200\n",
            "14/14 [==============================] - 10s 697ms/step - loss: 0.5707 - categorical_accuracy: 0.7847 - val_loss: 0.1719 - val_categorical_accuracy: 0.9375\n",
            "Epoch 43/200\n",
            "14/14 [==============================] - 10s 696ms/step - loss: 0.4874 - categorical_accuracy: 0.7778 - val_loss: 0.0903 - val_categorical_accuracy: 0.9861\n",
            "Epoch 44/200\n",
            "14/14 [==============================] - 10s 696ms/step - loss: 0.3967 - categorical_accuracy: 0.8356 - val_loss: 0.0859 - val_categorical_accuracy: 0.9861\n",
            "Epoch 45/200\n",
            "14/14 [==============================] - 10s 691ms/step - loss: 0.3035 - categorical_accuracy: 0.8519 - val_loss: 0.0193 - val_categorical_accuracy: 1.0000\n",
            "Epoch 46/200\n",
            "14/14 [==============================] - 10s 698ms/step - loss: 0.3133 - categorical_accuracy: 0.8449 - val_loss: 0.0124 - val_categorical_accuracy: 1.0000\n",
            "Epoch 47/200\n",
            "14/14 [==============================] - 10s 696ms/step - loss: 0.3140 - categorical_accuracy: 0.8588 - val_loss: 0.0314 - val_categorical_accuracy: 1.0000\n",
            "Epoch 48/200\n",
            "14/14 [==============================] - 10s 698ms/step - loss: 0.2510 - categorical_accuracy: 0.8819 - val_loss: 0.0134 - val_categorical_accuracy: 1.0000\n",
            "Epoch 49/200\n",
            "14/14 [==============================] - 10s 694ms/step - loss: 0.2846 - categorical_accuracy: 0.8588 - val_loss: 0.0371 - val_categorical_accuracy: 0.9861\n",
            "Epoch 50/200\n",
            "14/14 [==============================] - 10s 697ms/step - loss: 0.2951 - categorical_accuracy: 0.8356 - val_loss: 0.0305 - val_categorical_accuracy: 0.9931\n",
            "Epoch 51/200\n",
            "14/14 [==============================] - 10s 698ms/step - loss: 0.2869 - categorical_accuracy: 0.8542 - val_loss: 0.0252 - val_categorical_accuracy: 0.9931\n",
            "Epoch 52/200\n",
            "14/14 [==============================] - 10s 696ms/step - loss: 0.3198 - categorical_accuracy: 0.8426 - val_loss: 0.0378 - val_categorical_accuracy: 0.9931\n",
            "Epoch 53/200\n",
            "14/14 [==============================] - 10s 699ms/step - loss: 0.2661 - categorical_accuracy: 0.8657 - val_loss: 0.0365 - val_categorical_accuracy: 1.0000\n",
            "Epoch 54/200\n",
            "14/14 [==============================] - 10s 702ms/step - loss: 0.2705 - categorical_accuracy: 0.8565 - val_loss: 0.0078 - val_categorical_accuracy: 1.0000\n",
            "Epoch 55/200\n",
            "14/14 [==============================] - 10s 696ms/step - loss: 0.2427 - categorical_accuracy: 0.8773 - val_loss: 0.0478 - val_categorical_accuracy: 0.9792\n",
            "Epoch 56/200\n",
            "14/14 [==============================] - 10s 698ms/step - loss: 0.1757 - categorical_accuracy: 0.9167 - val_loss: 0.0079 - val_categorical_accuracy: 1.0000\n",
            "Epoch 57/200\n",
            "14/14 [==============================] - 10s 699ms/step - loss: 0.2306 - categorical_accuracy: 0.8681 - val_loss: 0.0225 - val_categorical_accuracy: 0.9931\n",
            "Epoch 58/200\n",
            "14/14 [==============================] - 10s 699ms/step - loss: 0.2167 - categorical_accuracy: 0.8773 - val_loss: 0.0038 - val_categorical_accuracy: 1.0000\n",
            "Epoch 59/200\n",
            "14/14 [==============================] - 10s 698ms/step - loss: 0.2189 - categorical_accuracy: 0.8773 - val_loss: 0.0323 - val_categorical_accuracy: 0.9861\n",
            "Epoch 60/200\n",
            "14/14 [==============================] - 10s 698ms/step - loss: 0.2589 - categorical_accuracy: 0.8588 - val_loss: 0.0087 - val_categorical_accuracy: 1.0000\n",
            "Epoch 61/200\n",
            "14/14 [==============================] - 10s 698ms/step - loss: 0.2309 - categorical_accuracy: 0.8889 - val_loss: 0.0107 - val_categorical_accuracy: 1.0000\n",
            "Epoch 62/200\n",
            "14/14 [==============================] - 10s 696ms/step - loss: 0.2335 - categorical_accuracy: 0.8773 - val_loss: 0.0401 - val_categorical_accuracy: 0.9792\n",
            "Epoch 63/200\n",
            "14/14 [==============================] - 10s 697ms/step - loss: 0.2155 - categorical_accuracy: 0.8796 - val_loss: 0.0081 - val_categorical_accuracy: 1.0000\n",
            "Epoch 64/200\n",
            "14/14 [==============================] - 10s 697ms/step - loss: 0.2541 - categorical_accuracy: 0.8704 - val_loss: 0.0181 - val_categorical_accuracy: 0.9931\n",
            "Epoch 65/200\n",
            "14/14 [==============================] - 10s 701ms/step - loss: 0.2693 - categorical_accuracy: 0.8681 - val_loss: 0.0132 - val_categorical_accuracy: 1.0000\n",
            "Epoch 66/200\n",
            "14/14 [==============================] - 10s 699ms/step - loss: 0.2872 - categorical_accuracy: 0.8588 - val_loss: 0.0154 - val_categorical_accuracy: 1.0000\n",
            "Epoch 67/200\n",
            "14/14 [==============================] - 10s 699ms/step - loss: 0.2205 - categorical_accuracy: 0.8866 - val_loss: 0.0447 - val_categorical_accuracy: 0.9792\n",
            "Epoch 68/200\n",
            "14/14 [==============================] - 10s 695ms/step - loss: 0.2043 - categorical_accuracy: 0.9028 - val_loss: 0.0121 - val_categorical_accuracy: 1.0000\n",
            "Epoch 69/200\n",
            "14/14 [==============================] - 10s 695ms/step - loss: 0.2480 - categorical_accuracy: 0.8843 - val_loss: 0.0228 - val_categorical_accuracy: 0.9931\n",
            "Epoch 70/200\n",
            "14/14 [==============================] - 10s 697ms/step - loss: 0.2750 - categorical_accuracy: 0.8588 - val_loss: 0.0377 - val_categorical_accuracy: 0.9931\n",
            "Epoch 71/200\n",
            "14/14 [==============================] - 10s 699ms/step - loss: 0.2405 - categorical_accuracy: 0.8704 - val_loss: 0.0061 - val_categorical_accuracy: 1.0000\n",
            "Epoch 72/200\n",
            "14/14 [==============================] - 10s 701ms/step - loss: 0.2613 - categorical_accuracy: 0.8611 - val_loss: 0.0241 - val_categorical_accuracy: 0.9931\n",
            "Epoch 73/200\n",
            "14/14 [==============================] - 10s 700ms/step - loss: 0.1927 - categorical_accuracy: 0.8750 - val_loss: 0.0026 - val_categorical_accuracy: 1.0000\n",
            "Epoch 74/200\n",
            "14/14 [==============================] - 10s 700ms/step - loss: 0.1797 - categorical_accuracy: 0.8912 - val_loss: 0.0029 - val_categorical_accuracy: 1.0000\n",
            "Epoch 75/200\n",
            "14/14 [==============================] - 10s 698ms/step - loss: 0.2919 - categorical_accuracy: 0.8611 - val_loss: 0.0047 - val_categorical_accuracy: 1.0000\n",
            "Epoch 76/200\n",
            "14/14 [==============================] - 10s 697ms/step - loss: 0.2292 - categorical_accuracy: 0.8727 - val_loss: 0.0050 - val_categorical_accuracy: 1.0000\n",
            "Epoch 77/200\n",
            "14/14 [==============================] - 10s 699ms/step - loss: 0.1987 - categorical_accuracy: 0.9005 - val_loss: 0.0037 - val_categorical_accuracy: 1.0000\n",
            "Epoch 78/200\n",
            "14/14 [==============================] - 10s 700ms/step - loss: 0.2012 - categorical_accuracy: 0.8819 - val_loss: 0.0065 - val_categorical_accuracy: 1.0000\n",
            "Epoch 79/200\n",
            "14/14 [==============================] - 10s 701ms/step - loss: 0.2006 - categorical_accuracy: 0.8935 - val_loss: 0.0016 - val_categorical_accuracy: 1.0000\n",
            "Epoch 80/200\n",
            "14/14 [==============================] - 10s 699ms/step - loss: 0.2464 - categorical_accuracy: 0.8681 - val_loss: 0.0015 - val_categorical_accuracy: 1.0000\n",
            "Epoch 81/200\n",
            "14/14 [==============================] - 10s 700ms/step - loss: 0.1935 - categorical_accuracy: 0.8866 - val_loss: 0.0117 - val_categorical_accuracy: 0.9931\n",
            "Epoch 82/200\n",
            "14/14 [==============================] - 10s 698ms/step - loss: 0.2050 - categorical_accuracy: 0.8912 - val_loss: 0.0078 - val_categorical_accuracy: 1.0000\n",
            "Epoch 83/200\n",
            "14/14 [==============================] - 10s 699ms/step - loss: 0.1888 - categorical_accuracy: 0.9120 - val_loss: 0.0016 - val_categorical_accuracy: 1.0000\n",
            "Epoch 84/200\n",
            "14/14 [==============================] - 10s 700ms/step - loss: 0.2008 - categorical_accuracy: 0.8958 - val_loss: 0.0012 - val_categorical_accuracy: 1.0000\n",
            "Epoch 85/200\n",
            "14/14 [==============================] - 10s 700ms/step - loss: 0.1729 - categorical_accuracy: 0.9329 - val_loss: 0.0093 - val_categorical_accuracy: 0.9931\n",
            "Epoch 86/200\n",
            "14/14 [==============================] - 10s 699ms/step - loss: 0.1660 - categorical_accuracy: 0.9028 - val_loss: 0.0056 - val_categorical_accuracy: 1.0000\n",
            "Epoch 87/200\n",
            "14/14 [==============================] - 10s 698ms/step - loss: 0.2025 - categorical_accuracy: 0.8912 - val_loss: 0.0031 - val_categorical_accuracy: 1.0000\n",
            "Epoch 88/200\n",
            "14/14 [==============================] - 10s 700ms/step - loss: 0.1934 - categorical_accuracy: 0.9097 - val_loss: 0.0017 - val_categorical_accuracy: 1.0000\n",
            "Epoch 89/200\n",
            "14/14 [==============================] - 10s 701ms/step - loss: 0.2122 - categorical_accuracy: 0.8843 - val_loss: 0.0182 - val_categorical_accuracy: 0.9931\n",
            "Epoch 90/200\n",
            "14/14 [==============================] - 10s 703ms/step - loss: 0.1899 - categorical_accuracy: 0.9167 - val_loss: 0.0066 - val_categorical_accuracy: 1.0000\n",
            "Epoch 91/200\n",
            "14/14 [==============================] - 10s 697ms/step - loss: 0.1921 - categorical_accuracy: 0.8935 - val_loss: 9.8459e-04 - val_categorical_accuracy: 1.0000\n",
            "Epoch 92/200\n",
            "14/14 [==============================] - 10s 703ms/step - loss: 0.2003 - categorical_accuracy: 0.8935 - val_loss: 0.0019 - val_categorical_accuracy: 1.0000\n",
            "Epoch 93/200\n",
            "14/14 [==============================] - 10s 701ms/step - loss: 0.1905 - categorical_accuracy: 0.8935 - val_loss: 0.0170 - val_categorical_accuracy: 0.9931\n",
            "Epoch 94/200\n",
            "14/14 [==============================] - 10s 697ms/step - loss: 0.2158 - categorical_accuracy: 0.9005 - val_loss: 6.0295e-04 - val_categorical_accuracy: 1.0000\n",
            "Epoch 95/200\n",
            "14/14 [==============================] - 10s 699ms/step - loss: 0.1819 - categorical_accuracy: 0.8935 - val_loss: 0.0014 - val_categorical_accuracy: 1.0000\n",
            "Epoch 96/200\n",
            "14/14 [==============================] - 10s 700ms/step - loss: 0.1859 - categorical_accuracy: 0.9051 - val_loss: 5.0075e-04 - val_categorical_accuracy: 1.0000\n",
            "Epoch 97/200\n",
            "14/14 [==============================] - 10s 697ms/step - loss: 0.1566 - categorical_accuracy: 0.9074 - val_loss: 5.8961e-04 - val_categorical_accuracy: 1.0000\n",
            "Epoch 98/200\n",
            "14/14 [==============================] - 10s 704ms/step - loss: 0.1518 - categorical_accuracy: 0.9259 - val_loss: 0.0012 - val_categorical_accuracy: 1.0000\n",
            "Epoch 99/200\n",
            "14/14 [==============================] - 10s 701ms/step - loss: 0.1701 - categorical_accuracy: 0.9051 - val_loss: 0.0066 - val_categorical_accuracy: 1.0000\n",
            "Epoch 100/200\n",
            "14/14 [==============================] - 10s 698ms/step - loss: 0.2219 - categorical_accuracy: 0.8681 - val_loss: 0.0089 - val_categorical_accuracy: 1.0000\n",
            "Epoch 101/200\n",
            "14/14 [==============================] - 10s 696ms/step - loss: 0.1579 - categorical_accuracy: 0.9213 - val_loss: 0.0014 - val_categorical_accuracy: 1.0000\n",
            "Epoch 102/200\n",
            "14/14 [==============================] - 10s 696ms/step - loss: 0.2067 - categorical_accuracy: 0.8819 - val_loss: 0.0293 - val_categorical_accuracy: 0.9861\n",
            "Epoch 103/200\n",
            "14/14 [==============================] - 10s 699ms/step - loss: 0.2364 - categorical_accuracy: 0.8866 - val_loss: 0.0193 - val_categorical_accuracy: 0.9931\n",
            "Epoch 104/200\n",
            "14/14 [==============================] - 10s 702ms/step - loss: 0.1916 - categorical_accuracy: 0.9167 - val_loss: 0.0049 - val_categorical_accuracy: 1.0000\n",
            "Epoch 105/200\n",
            "14/14 [==============================] - 10s 698ms/step - loss: 0.1864 - categorical_accuracy: 0.9097 - val_loss: 7.8843e-04 - val_categorical_accuracy: 1.0000\n",
            "Epoch 106/200\n",
            "14/14 [==============================] - 10s 698ms/step - loss: 0.1639 - categorical_accuracy: 0.9282 - val_loss: 0.0036 - val_categorical_accuracy: 1.0000\n",
            "Epoch 107/200\n",
            "14/14 [==============================] - 10s 699ms/step - loss: 0.2123 - categorical_accuracy: 0.9190 - val_loss: 6.8721e-04 - val_categorical_accuracy: 1.0000\n",
            "Epoch 108/200\n",
            "14/14 [==============================] - 10s 699ms/step - loss: 0.2184 - categorical_accuracy: 0.8912 - val_loss: 0.0637 - val_categorical_accuracy: 0.9861\n",
            "Epoch 109/200\n",
            "14/14 [==============================] - 10s 701ms/step - loss: 0.2007 - categorical_accuracy: 0.9051 - val_loss: 0.0084 - val_categorical_accuracy: 1.0000\n",
            "Epoch 110/200\n",
            "14/14 [==============================] - 10s 697ms/step - loss: 0.1714 - categorical_accuracy: 0.9213 - val_loss: 0.0105 - val_categorical_accuracy: 0.9931\n",
            "Epoch 111/200\n",
            "14/14 [==============================] - 10s 703ms/step - loss: 0.2007 - categorical_accuracy: 0.8843 - val_loss: 8.6070e-05 - val_categorical_accuracy: 1.0000\n",
            "Epoch 112/200\n",
            "14/14 [==============================] - 10s 699ms/step - loss: 0.1367 - categorical_accuracy: 0.9259 - val_loss: 0.0149 - val_categorical_accuracy: 0.9931\n",
            "Epoch 113/200\n",
            "14/14 [==============================] - 10s 698ms/step - loss: 0.2108 - categorical_accuracy: 0.8796 - val_loss: 7.4303e-04 - val_categorical_accuracy: 1.0000\n",
            "Epoch 114/200\n",
            "14/14 [==============================] - 10s 698ms/step - loss: 0.1842 - categorical_accuracy: 0.8981 - val_loss: 0.0015 - val_categorical_accuracy: 1.0000\n",
            "Epoch 115/200\n",
            "14/14 [==============================] - 10s 704ms/step - loss: 0.1570 - categorical_accuracy: 0.9306 - val_loss: 0.0011 - val_categorical_accuracy: 1.0000\n",
            "Epoch 116/200\n",
            "14/14 [==============================] - 10s 697ms/step - loss: 0.2020 - categorical_accuracy: 0.9028 - val_loss: 5.5482e-04 - val_categorical_accuracy: 1.0000\n",
            "Epoch 117/200\n",
            "14/14 [==============================] - 10s 701ms/step - loss: 0.2067 - categorical_accuracy: 0.8981 - val_loss: 0.0172 - val_categorical_accuracy: 0.9931\n",
            "Epoch 118/200\n",
            "14/14 [==============================] - 10s 700ms/step - loss: 0.1495 - categorical_accuracy: 0.9236 - val_loss: 0.0029 - val_categorical_accuracy: 1.0000\n",
            "Epoch 119/200\n",
            "14/14 [==============================] - 10s 699ms/step - loss: 0.1529 - categorical_accuracy: 0.9236 - val_loss: 0.0038 - val_categorical_accuracy: 1.0000\n",
            "Epoch 120/200\n",
            "14/14 [==============================] - 10s 698ms/step - loss: 0.1346 - categorical_accuracy: 0.9491 - val_loss: 0.0067 - val_categorical_accuracy: 1.0000\n",
            "Epoch 121/200\n",
            "14/14 [==============================] - 10s 701ms/step - loss: 0.1528 - categorical_accuracy: 0.9306 - val_loss: 0.0060 - val_categorical_accuracy: 1.0000\n",
            "Epoch 122/200\n",
            "14/14 [==============================] - 10s 694ms/step - loss: 0.1618 - categorical_accuracy: 0.9213 - val_loss: 0.0098 - val_categorical_accuracy: 0.9931\n",
            "Epoch 123/200\n",
            "14/14 [==============================] - 10s 700ms/step - loss: 0.1445 - categorical_accuracy: 0.9398 - val_loss: 0.0011 - val_categorical_accuracy: 1.0000\n",
            "Epoch 124/200\n",
            "14/14 [==============================] - 10s 698ms/step - loss: 0.2030 - categorical_accuracy: 0.9097 - val_loss: 0.0038 - val_categorical_accuracy: 1.0000\n",
            "Epoch 125/200\n",
            "14/14 [==============================] - 10s 700ms/step - loss: 0.2174 - categorical_accuracy: 0.9144 - val_loss: 0.0262 - val_categorical_accuracy: 0.9931\n",
            "Epoch 126/200\n",
            "14/14 [==============================] - 10s 700ms/step - loss: 0.1615 - categorical_accuracy: 0.9213 - val_loss: 0.0023 - val_categorical_accuracy: 1.0000\n",
            "Epoch 127/200\n",
            "14/14 [==============================] - 10s 699ms/step - loss: 0.1387 - categorical_accuracy: 0.9444 - val_loss: 6.0044e-04 - val_categorical_accuracy: 1.0000\n",
            "Epoch 128/200\n",
            "14/14 [==============================] - 10s 698ms/step - loss: 0.1765 - categorical_accuracy: 0.9190 - val_loss: 0.0083 - val_categorical_accuracy: 0.9931\n",
            "Epoch 129/200\n",
            "14/14 [==============================] - 10s 698ms/step - loss: 0.1693 - categorical_accuracy: 0.9167 - val_loss: 4.8010e-04 - val_categorical_accuracy: 1.0000\n",
            "Epoch 130/200\n",
            "14/14 [==============================] - 10s 697ms/step - loss: 0.1586 - categorical_accuracy: 0.9120 - val_loss: 4.4073e-04 - val_categorical_accuracy: 1.0000\n",
            "Epoch 131/200\n",
            "14/14 [==============================] - 10s 696ms/step - loss: 0.1539 - categorical_accuracy: 0.9282 - val_loss: 4.8355e-04 - val_categorical_accuracy: 1.0000\n",
            "Epoch 132/200\n",
            "14/14 [==============================] - 10s 695ms/step - loss: 0.1327 - categorical_accuracy: 0.9282 - val_loss: 4.3294e-04 - val_categorical_accuracy: 1.0000\n",
            "Epoch 133/200\n",
            "14/14 [==============================] - 10s 698ms/step - loss: 0.1505 - categorical_accuracy: 0.9213 - val_loss: 0.0011 - val_categorical_accuracy: 1.0000\n",
            "Epoch 134/200\n",
            "14/14 [==============================] - 10s 702ms/step - loss: 0.1257 - categorical_accuracy: 0.9352 - val_loss: 0.0011 - val_categorical_accuracy: 1.0000\n",
            "Epoch 135/200\n",
            "14/14 [==============================] - 10s 700ms/step - loss: 0.1751 - categorical_accuracy: 0.9167 - val_loss: 0.0120 - val_categorical_accuracy: 0.9931\n",
            "Epoch 136/200\n",
            "14/14 [==============================] - 10s 697ms/step - loss: 0.1657 - categorical_accuracy: 0.9329 - val_loss: 0.0218 - val_categorical_accuracy: 0.9931\n",
            "Epoch 137/200\n",
            "14/14 [==============================] - 10s 696ms/step - loss: 0.1633 - categorical_accuracy: 0.9259 - val_loss: 4.5769e-04 - val_categorical_accuracy: 1.0000\n",
            "Epoch 138/200\n",
            "14/14 [==============================] - 10s 694ms/step - loss: 0.1656 - categorical_accuracy: 0.9282 - val_loss: 4.4540e-04 - val_categorical_accuracy: 1.0000\n",
            "Epoch 139/200\n",
            "14/14 [==============================] - 10s 692ms/step - loss: 0.1327 - categorical_accuracy: 0.9421 - val_loss: 5.4628e-04 - val_categorical_accuracy: 1.0000\n",
            "Epoch 140/200\n",
            "14/14 [==============================] - 10s 703ms/step - loss: 0.1535 - categorical_accuracy: 0.9444 - val_loss: 8.2581e-04 - val_categorical_accuracy: 1.0000\n",
            "Epoch 141/200\n",
            "14/14 [==============================] - 10s 697ms/step - loss: 0.1469 - categorical_accuracy: 0.9236 - val_loss: 3.1415e-04 - val_categorical_accuracy: 1.0000\n",
            "Epoch 142/200\n",
            "14/14 [==============================] - 10s 697ms/step - loss: 0.1696 - categorical_accuracy: 0.9120 - val_loss: 3.5939e-04 - val_categorical_accuracy: 1.0000\n",
            "Epoch 143/200\n",
            "14/14 [==============================] - 10s 698ms/step - loss: 0.1632 - categorical_accuracy: 0.9306 - val_loss: 0.0440 - val_categorical_accuracy: 0.9861\n",
            "Epoch 144/200\n",
            "14/14 [==============================] - 10s 698ms/step - loss: 0.1737 - categorical_accuracy: 0.9120 - val_loss: 0.0024 - val_categorical_accuracy: 1.0000\n",
            "Epoch 145/200\n",
            "14/14 [==============================] - 10s 697ms/step - loss: 0.1999 - categorical_accuracy: 0.9144 - val_loss: 0.0018 - val_categorical_accuracy: 1.0000\n",
            "Epoch 146/200\n",
            "14/14 [==============================] - 10s 701ms/step - loss: 0.1400 - categorical_accuracy: 0.9491 - val_loss: 0.0023 - val_categorical_accuracy: 1.0000\n",
            "Epoch 147/200\n",
            "14/14 [==============================] - 10s 700ms/step - loss: 0.1703 - categorical_accuracy: 0.9259 - val_loss: 0.0024 - val_categorical_accuracy: 1.0000\n",
            "Epoch 148/200\n",
            "14/14 [==============================] - 10s 699ms/step - loss: 0.1614 - categorical_accuracy: 0.9213 - val_loss: 0.0019 - val_categorical_accuracy: 1.0000\n",
            "Epoch 149/200\n",
            "14/14 [==============================] - 10s 699ms/step - loss: 0.1476 - categorical_accuracy: 0.9306 - val_loss: 0.0035 - val_categorical_accuracy: 1.0000\n",
            "Epoch 150/200\n",
            "14/14 [==============================] - 10s 698ms/step - loss: 0.1613 - categorical_accuracy: 0.9236 - val_loss: 0.0175 - val_categorical_accuracy: 0.9931\n",
            "Epoch 151/200\n",
            "14/14 [==============================] - 10s 701ms/step - loss: 0.1582 - categorical_accuracy: 0.9329 - val_loss: 0.0016 - val_categorical_accuracy: 1.0000\n",
            "Epoch 152/200\n",
            "14/14 [==============================] - 10s 697ms/step - loss: 0.1589 - categorical_accuracy: 0.9352 - val_loss: 6.2995e-04 - val_categorical_accuracy: 1.0000\n",
            "Epoch 153/200\n",
            "14/14 [==============================] - 10s 702ms/step - loss: 0.1443 - categorical_accuracy: 0.9421 - val_loss: 0.0039 - val_categorical_accuracy: 1.0000\n",
            "Epoch 154/200\n",
            "14/14 [==============================] - 10s 696ms/step - loss: 0.1737 - categorical_accuracy: 0.9306 - val_loss: 0.0110 - val_categorical_accuracy: 0.9931\n",
            "Epoch 155/200\n",
            "14/14 [==============================] - 10s 699ms/step - loss: 0.2027 - categorical_accuracy: 0.9190 - val_loss: 0.0973 - val_categorical_accuracy: 0.9792\n",
            "Epoch 156/200\n",
            "14/14 [==============================] - 10s 699ms/step - loss: 0.3994 - categorical_accuracy: 0.8819 - val_loss: 1.7841 - val_categorical_accuracy: 0.7639\n",
            "Epoch 157/200\n",
            "14/14 [==============================] - 10s 701ms/step - loss: 0.6762 - categorical_accuracy: 0.7940 - val_loss: 0.0973 - val_categorical_accuracy: 0.9653\n",
            "Epoch 158/200\n",
            "14/14 [==============================] - 10s 701ms/step - loss: 0.4559 - categorical_accuracy: 0.8542 - val_loss: 2.4355e-04 - val_categorical_accuracy: 1.0000\n",
            "Epoch 159/200\n",
            "14/14 [==============================] - 10s 701ms/step - loss: 0.3372 - categorical_accuracy: 0.8611 - val_loss: 1.3444e-04 - val_categorical_accuracy: 1.0000\n",
            "Epoch 160/200\n",
            "14/14 [==============================] - 10s 700ms/step - loss: 0.6602 - categorical_accuracy: 0.8727 - val_loss: 1.1176 - val_categorical_accuracy: 0.8958\n",
            "Epoch 161/200\n",
            "14/14 [==============================] - 10s 699ms/step - loss: 0.7432 - categorical_accuracy: 0.7546 - val_loss: 0.3359 - val_categorical_accuracy: 0.9444\n",
            "Epoch 162/200\n",
            "14/14 [==============================] - 10s 699ms/step - loss: 0.4741 - categorical_accuracy: 0.8241 - val_loss: 0.1057 - val_categorical_accuracy: 1.0000\n",
            "Epoch 163/200\n",
            "14/14 [==============================] - 10s 696ms/step - loss: 0.3624 - categorical_accuracy: 0.8866 - val_loss: 0.0616 - val_categorical_accuracy: 1.0000\n",
            "Epoch 164/200\n",
            "14/14 [==============================] - 10s 701ms/step - loss: 0.2692 - categorical_accuracy: 0.9051 - val_loss: 0.0295 - val_categorical_accuracy: 1.0000\n",
            "Epoch 165/200\n",
            "14/14 [==============================] - 10s 699ms/step - loss: 0.2266 - categorical_accuracy: 0.9074 - val_loss: 0.0100 - val_categorical_accuracy: 1.0000\n",
            "Epoch 166/200\n",
            "14/14 [==============================] - 10s 701ms/step - loss: 0.2688 - categorical_accuracy: 0.8981 - val_loss: 0.0379 - val_categorical_accuracy: 1.0000\n",
            "Epoch 167/200\n",
            "14/14 [==============================] - 10s 700ms/step - loss: 0.2522 - categorical_accuracy: 0.9190 - val_loss: 0.0074 - val_categorical_accuracy: 1.0000\n",
            "Epoch 168/200\n",
            "14/14 [==============================] - 10s 699ms/step - loss: 0.2524 - categorical_accuracy: 0.9120 - val_loss: 0.0237 - val_categorical_accuracy: 0.9931\n",
            "Epoch 169/200\n",
            "14/14 [==============================] - 10s 699ms/step - loss: 0.3120 - categorical_accuracy: 0.8588 - val_loss: 0.0030 - val_categorical_accuracy: 1.0000\n",
            "Epoch 170/200\n",
            "14/14 [==============================] - 10s 700ms/step - loss: 0.2393 - categorical_accuracy: 0.8981 - val_loss: 0.0118 - val_categorical_accuracy: 1.0000\n",
            "Epoch 171/200\n",
            "14/14 [==============================] - 10s 704ms/step - loss: 0.2039 - categorical_accuracy: 0.9190 - val_loss: 0.0170 - val_categorical_accuracy: 1.0000\n",
            "Epoch 172/200\n",
            "14/14 [==============================] - 10s 701ms/step - loss: 0.1927 - categorical_accuracy: 0.9213 - val_loss: 0.0042 - val_categorical_accuracy: 1.0000\n",
            "Epoch 173/200\n",
            "14/14 [==============================] - 10s 697ms/step - loss: 0.1751 - categorical_accuracy: 0.9190 - val_loss: 0.0031 - val_categorical_accuracy: 1.0000\n",
            "Epoch 174/200\n",
            "14/14 [==============================] - 10s 699ms/step - loss: 0.1585 - categorical_accuracy: 0.9259 - val_loss: 0.0011 - val_categorical_accuracy: 1.0000\n",
            "Epoch 175/200\n",
            "14/14 [==============================] - 10s 698ms/step - loss: 0.2158 - categorical_accuracy: 0.9167 - val_loss: 0.0037 - val_categorical_accuracy: 1.0000\n",
            "Epoch 176/200\n",
            "14/14 [==============================] - 10s 701ms/step - loss: 0.1879 - categorical_accuracy: 0.9236 - val_loss: 0.0042 - val_categorical_accuracy: 1.0000\n",
            "Epoch 177/200\n",
            "14/14 [==============================] - 10s 702ms/step - loss: 0.1637 - categorical_accuracy: 0.9167 - val_loss: 0.0011 - val_categorical_accuracy: 1.0000\n",
            "Epoch 178/200\n",
            "14/14 [==============================] - 10s 699ms/step - loss: 0.1616 - categorical_accuracy: 0.9190 - val_loss: 4.7628e-04 - val_categorical_accuracy: 1.0000\n",
            "Epoch 179/200\n",
            "14/14 [==============================] - 10s 704ms/step - loss: 0.1805 - categorical_accuracy: 0.9167 - val_loss: 8.2256e-04 - val_categorical_accuracy: 1.0000\n",
            "Epoch 180/200\n",
            "14/14 [==============================] - 10s 701ms/step - loss: 0.1449 - categorical_accuracy: 0.9329 - val_loss: 0.0098 - val_categorical_accuracy: 0.9931\n",
            "Epoch 181/200\n",
            "14/14 [==============================] - 10s 700ms/step - loss: 0.1910 - categorical_accuracy: 0.9236 - val_loss: 0.0049 - val_categorical_accuracy: 1.0000\n",
            "Epoch 182/200\n",
            "14/14 [==============================] - 10s 698ms/step - loss: 0.2093 - categorical_accuracy: 0.9144 - val_loss: 0.0241 - val_categorical_accuracy: 0.9931\n",
            "Epoch 183/200\n",
            "14/14 [==============================] - 10s 702ms/step - loss: 0.1937 - categorical_accuracy: 0.9051 - val_loss: 0.0019 - val_categorical_accuracy: 1.0000\n",
            "Epoch 184/200\n",
            "14/14 [==============================] - 10s 698ms/step - loss: 0.1865 - categorical_accuracy: 0.9144 - val_loss: 1.0410e-04 - val_categorical_accuracy: 1.0000\n",
            "Epoch 185/200\n",
            "14/14 [==============================] - 10s 698ms/step - loss: 0.1502 - categorical_accuracy: 0.9398 - val_loss: 5.7431e-04 - val_categorical_accuracy: 1.0000\n",
            "Epoch 186/200\n",
            "14/14 [==============================] - 10s 701ms/step - loss: 0.1502 - categorical_accuracy: 0.9282 - val_loss: 0.0010 - val_categorical_accuracy: 1.0000\n",
            "Epoch 187/200\n",
            "14/14 [==============================] - 10s 699ms/step - loss: 0.1672 - categorical_accuracy: 0.9144 - val_loss: 0.0013 - val_categorical_accuracy: 1.0000\n",
            "Epoch 188/200\n",
            "14/14 [==============================] - 10s 696ms/step - loss: 0.1496 - categorical_accuracy: 0.9236 - val_loss: 0.0012 - val_categorical_accuracy: 1.0000\n",
            "Epoch 189/200\n",
            "14/14 [==============================] - 10s 699ms/step - loss: 0.1387 - categorical_accuracy: 0.9352 - val_loss: 6.4995e-04 - val_categorical_accuracy: 1.0000\n",
            "Epoch 190/200\n",
            "14/14 [==============================] - 10s 701ms/step - loss: 0.1640 - categorical_accuracy: 0.9190 - val_loss: 1.3469e-04 - val_categorical_accuracy: 1.0000\n",
            "Epoch 191/200\n",
            "14/14 [==============================] - 10s 699ms/step - loss: 0.1773 - categorical_accuracy: 0.9190 - val_loss: 0.0013 - val_categorical_accuracy: 1.0000\n",
            "Epoch 192/200\n",
            "14/14 [==============================] - 10s 699ms/step - loss: 0.1449 - categorical_accuracy: 0.9468 - val_loss: 0.0064 - val_categorical_accuracy: 1.0000\n",
            "Epoch 193/200\n",
            "14/14 [==============================] - 10s 695ms/step - loss: 0.1301 - categorical_accuracy: 0.9444 - val_loss: 0.0027 - val_categorical_accuracy: 1.0000\n",
            "Epoch 194/200\n",
            "14/14 [==============================] - 10s 701ms/step - loss: 0.1425 - categorical_accuracy: 0.9398 - val_loss: 8.9406e-05 - val_categorical_accuracy: 1.0000\n",
            "Epoch 195/200\n",
            "14/14 [==============================] - 10s 700ms/step - loss: 0.1428 - categorical_accuracy: 0.9468 - val_loss: 7.3089e-05 - val_categorical_accuracy: 1.0000\n",
            "Epoch 196/200\n",
            "14/14 [==============================] - 10s 700ms/step - loss: 0.1726 - categorical_accuracy: 0.9167 - val_loss: 1.7165e-05 - val_categorical_accuracy: 1.0000\n",
            "Epoch 197/200\n",
            "14/14 [==============================] - 10s 698ms/step - loss: 0.1479 - categorical_accuracy: 0.9468 - val_loss: 7.6798e-05 - val_categorical_accuracy: 1.0000\n",
            "Epoch 198/200\n",
            "14/14 [==============================] - 10s 697ms/step - loss: 0.1513 - categorical_accuracy: 0.9444 - val_loss: 6.6482e-04 - val_categorical_accuracy: 1.0000\n",
            "Epoch 199/200\n",
            "14/14 [==============================] - 10s 699ms/step - loss: 0.1914 - categorical_accuracy: 0.9097 - val_loss: 0.0010 - val_categorical_accuracy: 1.0000\n",
            "Epoch 200/200\n",
            "14/14 [==============================] - 10s 694ms/step - loss: 0.1470 - categorical_accuracy: 0.9352 - val_loss: 5.6161e-04 - val_categorical_accuracy: 1.0000\n"
          ]
        }
      ]
    },
    {
      "cell_type": "code",
      "metadata": {
        "colab": {
          "base_uri": "https://localhost:8080/",
          "height": 162
        },
        "id": "ARkSeWDYBPnU",
        "outputId": "4b4077e9-9a07-4289-aea3-7f540b15cb92"
      },
      "source": [
        "labels_predicted = history.model.predict_classes(images_test, verbose=1)\n"
      ],
      "execution_count": null,
      "outputs": [
        {
          "output_type": "error",
          "ename": "AttributeError",
          "evalue": "ignored",
          "traceback": [
            "\u001b[0;31m---------------------------------------------------------------------------\u001b[0m",
            "\u001b[0;31mAttributeError\u001b[0m                            Traceback (most recent call last)",
            "\u001b[0;32m<ipython-input-50-a546090aa766>\u001b[0m in \u001b[0;36m<module>\u001b[0;34m()\u001b[0m\n\u001b[0;32m----> 1\u001b[0;31m \u001b[0mlabels_predicted\u001b[0m \u001b[0;34m=\u001b[0m \u001b[0mhistory\u001b[0m\u001b[0;34m.\u001b[0m\u001b[0mmodel\u001b[0m\u001b[0;34m.\u001b[0m\u001b[0mpredict_classes\u001b[0m\u001b[0;34m(\u001b[0m\u001b[0mimages_test\u001b[0m\u001b[0;34m,\u001b[0m \u001b[0mverbose\u001b[0m\u001b[0;34m=\u001b[0m\u001b[0;36m1\u001b[0m\u001b[0;34m)\u001b[0m\u001b[0;34m\u001b[0m\u001b[0;34m\u001b[0m\u001b[0m\n\u001b[0m",
            "\u001b[0;31mAttributeError\u001b[0m: 'Sequential' object has no attribute 'predict_classes'"
          ]
        }
      ]
    },
    {
      "cell_type": "code",
      "metadata": {
        "id": "w7zTSr0dLoyL"
      },
      "source": [
        "labels_predicted = np.argmax(history.model.predict(images_test), axis=-1)"
      ],
      "execution_count": null,
      "outputs": []
    },
    {
      "cell_type": "code",
      "metadata": {
        "colab": {
          "base_uri": "https://localhost:8080/",
          "height": 590
        },
        "id": "Mqf5HhQxGMAp",
        "outputId": "c160ecab-3900-403a-f629-84dddead3a45"
      },
      "source": [
        "import matplotlib.pyplot as plt\n",
        "\n",
        "# list all data in history\n",
        "print(history.history.keys())\n",
        "\n",
        "# summarize history for accuracy\n",
        "plt.plot(history.history['categorical_accuracy'])\n",
        "plt.plot(history.history['val_categorical_accuracy'])\n",
        "plt.title('model train accuracy')\n",
        "plt.ylabel('accuracy')\n",
        "plt.xlabel('epoch')\n",
        "plt.legend(['train', 'test'], loc='upper left')\n",
        "plt.show()\n",
        "\n",
        "# summarize history for loss\n",
        "plt.plot(history.history['loss'])\n",
        "plt.plot(history.history['val_loss'])\n",
        "plt.title('model train loss')\n",
        "plt.ylabel('loss')\n",
        "plt.xlabel('epoch')\n",
        "plt.legend(['train', 'test'], loc='upper left')\n",
        "plt.show()"
      ],
      "execution_count": null,
      "outputs": [
        {
          "output_type": "stream",
          "name": "stdout",
          "text": [
            "dict_keys(['loss', 'categorical_accuracy', 'val_loss', 'val_categorical_accuracy'])\n"
          ]
        },
        {
          "output_type": "display_data",
          "data": {
            "image/png": "[encoded data removed]",
            "text/plain": [
              "<Figure size 432x288 with 1 Axes>"
            ]
          },
          "metadata": {
            "needs_background": "light"
          }
        },
        {
          "output_type": "display_data",
          "data": {
            "image/png": "[encoded data removed]",
            "text/plain": [
              "<Figure size 432x288 with 1 Axes>"
            ]
          },
          "metadata": {
            "needs_background": "light"
          }
        }
      ]
    },
    {
      "cell_type": "code",
      "metadata": {
        "colab": {
          "base_uri": "https://localhost:8080/"
        },
        "id": "bZOLWsTaLB2W",
        "outputId": "0c853d6a-2782-4afb-bcab-68b14d0888dd"
      },
      "source": [
        "# for the confusion matrix we need a factorized labels \n",
        "# [1,0,0,0] -> 0 (\"N\")\n",
        "# [0,1,0,0] -> 2 (\"OR_F\")\n",
        "# [0,0,1,0] -> 2 (\"OR_V\")\n",
        "# [0,0,0,1] -> 1 (\"IR\")\n",
        "\n",
        "labels_test_factorized = [(1*label[0]+2*label[1]+3*label[2]+4*label[3])-1 for label in labels_test_onehot]\n",
        "\n",
        "from sklearn.metrics import classification_report\n",
        "print(classification_report(labels_test_factorized, labels_predicted))"
      ],
      "execution_count": null,
      "outputs": [
        {
          "output_type": "stream",
          "name": "stdout",
          "text": [
            "              precision    recall  f1-score   support\n",
            "\n",
            "           0       1.00      1.00      1.00        39\n",
            "           1       1.00      1.00      1.00        32\n",
            "           2       1.00      1.00      1.00        38\n",
            "           3       1.00      1.00      1.00        35\n",
            "\n",
            "    accuracy                           1.00       144\n",
            "   macro avg       1.00      1.00      1.00       144\n",
            "weighted avg       1.00      1.00      1.00       144\n",
            "\n"
          ]
        }
      ]
    },
    {
      "cell_type": "code",
      "metadata": {
        "id": "IfslFPEuLB4v"
      },
      "source": [
        ""
      ],
      "execution_count": null,
      "outputs": []
    },
    {
      "cell_type": "code",
      "metadata": {
        "id": "4nz9BcyULB7M"
      },
      "source": [
        ""
      ],
      "execution_count": null,
      "outputs": []
    },
    {
      "cell_type": "code",
      "metadata": {
        "id": "RgPY9yVPLB-p"
      },
      "source": [
        ""
      ],
      "execution_count": null,
      "outputs": []
    },
    {
      "cell_type": "code",
      "metadata": {
        "id": "fSmKifQCKeI0"
      },
      "source": [
        "def ROC(model, X_test, y_test, n_class):\n",
        "    import seaborn as sns\n",
        "    from sklearn.metrics import roc_curve, roc_auc_score, auc\n",
        "    from sklearn.metrics import confusion_matrix, classification_report\n",
        "    from sklearn.metrics import accuracy_score, balanced_accuracy_score\n",
        "    from sklearn.preprocessing import label_binarize\n",
        "    from itertools import cycle\n",
        "    import matplotlib.pyplot as plt\n",
        "    import pandas as pd\n",
        "    \n",
        "    \n",
        "    sns.set_style(\"dark\",{\"axes.facecolor\": \".97\"})\n",
        "    # Predict the labels of the test set: y_pred\n",
        "    y_pred = np.argmax(model.predict(X_test), axis=-1)\n",
        "\n",
        "    # Compute predicted probabilities: y_pred_prob\n",
        "    y_pred_prob = model.predict(X_test)\n",
        "    y_test_binary = label_binarize(y_test, classes=range(0, n_class))\n",
        "\n",
        "    y_test_normal = y_test_binary[:, 0]\n",
        "    y_prob_normal = y_pred_prob[:, 0]\n",
        "\n",
        "    y_test_inner_race = y_test_binary[:, 1]\n",
        "    y_prob_inner_race = y_pred_prob[:, 1]\n",
        "\n",
        "    y_test_outer_race = y_test_binary[:, 2]\n",
        "    y_prob_outer_race = y_pred_prob[:, 2]\n",
        "    \n",
        "    lw = 1.5\n",
        "    \n",
        "    # Compute and print the confusion matrix and classification report\n",
        "    matrix_c = confusion_matrix(y_test, y_pred)\n",
        "    category_labels = ['N','IR','OR']\n",
        "\n",
        "    matrix = pd.DataFrame(matrix_c)\n",
        "    plt.figure()\n",
        "    sns.heatmap(matrix, annot= True, fmt = \"d\",\n",
        "           xticklabels = category_labels,\n",
        "           yticklabels = category_labels, cmap = \"Blues\", cbar = False)\n",
        "    plt.xticks(rotation = 90)\n",
        "    plt.show()\n",
        "\n",
        "     # Compute accuracy score\n",
        "    print(\"accuracy score: \", accuracy_score(y_test, y_pred))\n",
        "    print(\"Number of correctly Classified Samples: \", accuracy_score(y_test, y_pred, normalize=False))\n",
        "    print(\"balanced accuracy score: \", balanced_accuracy_score(y_test, y_pred))\n",
        "\n",
        "    # Compute ROC curve and ROC area for each class\n",
        "    fpr = dict()\n",
        "    tpr = dict()\n",
        "    thresholds = dict()\n",
        "    roc_auc = dict()\n",
        "\n",
        "    fpr[0], tpr[0], thresholds[0] = roc_curve(y_test_normal, y_prob_normal)\n",
        "    fpr[1], tpr[1], thresholds[1] = roc_curve(y_test_inner_race, y_prob_inner_race)\n",
        "    fpr[2], tpr[2], thresholds[2] = roc_curve(y_test_outer_race, y_prob_outer_race)\n",
        "\n",
        "    for i in range(3):\n",
        "      roc_auc[i] = auc(fpr[i], tpr[i])\n",
        "\n",
        "    # Plot all ROC curves\n",
        "    plt.figure(figsize=(4, 4), dpi=150)\n",
        "\n",
        "    colors = ['black', 'red', 'green']\n",
        "    plot_labels = ['N','IR','OR']\n",
        "    for item in list(enumerate(colors)):\n",
        "      # \"N\", \"IR\", \"OR\"\n",
        "      plt.plot(fpr[item[0]], tpr[item[0]], color=item[1], lw=lw,\n",
        "                 label='ROC curve of class {0} (area = {1:0.2f})'\n",
        "                       ''.format(plot_labels[item[0]], roc_auc[item[0]]))\n",
        "\n",
        "    plt.plot([0, 1], [0, 1], 'k--', lw=.7)\n",
        "    plt.xlim([0.0, 1.0])\n",
        "    plt.ylim([0.0, 1.05])\n",
        "    plt.xlabel('False Positive Rate')\n",
        "    plt.ylabel('True Positive Rate')\n",
        "    plt.legend(loc=\"lower right\", prop={'size': 8})\n",
        "    plt.show()"
      ],
      "execution_count": null,
      "outputs": []
    },
    {
      "cell_type": "code",
      "metadata": {
        "colab": {
          "base_uri": "https://localhost:8080/",
          "height": 866
        },
        "id": "vdq50JKQK1NX",
        "outputId": "9e6290df-b21e-48e9-d901-3133da95523a"
      },
      "source": [
        "ROC(history.model, images_test, labels_test_factorized, 3)"
      ],
      "execution_count": null,
      "outputs": [
        {
          "output_type": "display_data",
          "data": {
            "image/png": "[encoded data removed]",
            "text/plain": [
              "<Figure size 432x288 with 1 Axes>"
            ]
          },
          "metadata": {}
        },
        {
          "output_type": "stream",
          "name": "stdout",
          "text": [
            "accuracy score:  1.0\n",
            "Number of correctly Classified Samples:  144\n",
            "balanced accuracy score:  1.0\n"
          ]
        },
        {
          "output_type": "display_data",
          "data": {
            "image/png": "[encoded data removed]",
            "text/plain": [
              "<Figure size 600x600 with 1 Axes>"
            ]
          },
          "metadata": {}
        }
      ]
    },
    {
      "cell_type": "code",
      "metadata": {
        "id": "ElS8yu28K64z"
      },
      "source": [
        ""
      ],
      "execution_count": null,
      "outputs": []
    }
  ]
}